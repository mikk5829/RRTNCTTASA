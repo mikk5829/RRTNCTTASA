{
 "cells": [
  {
   "cell_type": "code",
   "execution_count": 1,
   "metadata": {
    "collapsed": true
   },
   "outputs": [],
   "source": [
    "import math\n",
    "import numpy as np\n",
    "\n",
    "import seaborn as sns\n",
    "import pandas as pd\n",
    "import matplotlib.pyplot as plt\n",
    "\n",
    "sns.set()\n",
    "sns.set_context(\"paper\", font_scale=1.2)\n",
    "import warnings\n",
    "\n",
    "warnings.simplefilter(action='ignore', category=FutureWarning)"
   ]
  },
  {
   "cell_type": "code",
   "execution_count": 2,
   "outputs": [],
   "source": [
    "df = pd.read_csv(\"../test_images/dynamic_unknowndeg_0to360_5degstep/fine_scores_linefit_eps2.csv\")"
   ],
   "metadata": {
    "collapsed": false
   }
  },
  {
   "cell_type": "code",
   "execution_count": 3,
   "outputs": [
    {
     "data": {
      "text/plain": "    img_number  iterations          loss        roll       pitch         yaw  \\\n0            0        1288  3.861514e+02    2.705251  -97.550000   87.000000   \n1            1         756  1.050313e-11   -8.792401 -108.997907   89.582224   \n2            2         546  1.344628e-11  -12.841861 -109.662952   88.560803   \n3            3         539  1.743068e-09  -18.080766 -109.990693   88.802768   \n4            4         497  1.355868e+00  -26.080766 -111.363104   91.951286   \n..         ...         ...           ...         ...         ...         ...   \n68          68         476  6.316359e-02 -152.756194 -116.097010  -98.655675   \n69          69         364  2.722300e-01 -154.129103 -117.302377 -102.254955   \n70          70         273  8.634383e-02 -155.845001 -118.833171 -105.124379   \n71          71        1652  9.615106e+01 -158.620335 -119.947848 -107.522630   \n72          72         357  1.333470e-01 -158.607685 -119.715119 -112.801702   \n\n           x         y         z  \n0   0.114264  0.054625 -0.400000  \n1   0.227290  0.165259 -0.258499  \n2   0.227843  0.168713 -0.341809  \n3   0.228129  0.168919 -0.451883  \n4   0.226060  0.149381 -0.518505  \n..       ...       ...       ...  \n68  0.121492  0.129389 -0.784776  \n69  0.110737  0.145633 -0.960581  \n70  0.099020  0.154535 -1.076342  \n71  0.090212  0.173241 -1.276759  \n72  0.071532  0.199852 -1.614853  \n\n[73 rows x 9 columns]",
      "text/html": "<div>\n<style scoped>\n    .dataframe tbody tr th:only-of-type {\n        vertical-align: middle;\n    }\n\n    .dataframe tbody tr th {\n        vertical-align: top;\n    }\n\n    .dataframe thead th {\n        text-align: right;\n    }\n</style>\n<table border=\"1\" class=\"dataframe\">\n  <thead>\n    <tr style=\"text-align: right;\">\n      <th></th>\n      <th>img_number</th>\n      <th>iterations</th>\n      <th>loss</th>\n      <th>roll</th>\n      <th>pitch</th>\n      <th>yaw</th>\n      <th>x</th>\n      <th>y</th>\n      <th>z</th>\n    </tr>\n  </thead>\n  <tbody>\n    <tr>\n      <th>0</th>\n      <td>0</td>\n      <td>1288</td>\n      <td>3.861514e+02</td>\n      <td>2.705251</td>\n      <td>-97.550000</td>\n      <td>87.000000</td>\n      <td>0.114264</td>\n      <td>0.054625</td>\n      <td>-0.400000</td>\n    </tr>\n    <tr>\n      <th>1</th>\n      <td>1</td>\n      <td>756</td>\n      <td>1.050313e-11</td>\n      <td>-8.792401</td>\n      <td>-108.997907</td>\n      <td>89.582224</td>\n      <td>0.227290</td>\n      <td>0.165259</td>\n      <td>-0.258499</td>\n    </tr>\n    <tr>\n      <th>2</th>\n      <td>2</td>\n      <td>546</td>\n      <td>1.344628e-11</td>\n      <td>-12.841861</td>\n      <td>-109.662952</td>\n      <td>88.560803</td>\n      <td>0.227843</td>\n      <td>0.168713</td>\n      <td>-0.341809</td>\n    </tr>\n    <tr>\n      <th>3</th>\n      <td>3</td>\n      <td>539</td>\n      <td>1.743068e-09</td>\n      <td>-18.080766</td>\n      <td>-109.990693</td>\n      <td>88.802768</td>\n      <td>0.228129</td>\n      <td>0.168919</td>\n      <td>-0.451883</td>\n    </tr>\n    <tr>\n      <th>4</th>\n      <td>4</td>\n      <td>497</td>\n      <td>1.355868e+00</td>\n      <td>-26.080766</td>\n      <td>-111.363104</td>\n      <td>91.951286</td>\n      <td>0.226060</td>\n      <td>0.149381</td>\n      <td>-0.518505</td>\n    </tr>\n    <tr>\n      <th>...</th>\n      <td>...</td>\n      <td>...</td>\n      <td>...</td>\n      <td>...</td>\n      <td>...</td>\n      <td>...</td>\n      <td>...</td>\n      <td>...</td>\n      <td>...</td>\n    </tr>\n    <tr>\n      <th>68</th>\n      <td>68</td>\n      <td>476</td>\n      <td>6.316359e-02</td>\n      <td>-152.756194</td>\n      <td>-116.097010</td>\n      <td>-98.655675</td>\n      <td>0.121492</td>\n      <td>0.129389</td>\n      <td>-0.784776</td>\n    </tr>\n    <tr>\n      <th>69</th>\n      <td>69</td>\n      <td>364</td>\n      <td>2.722300e-01</td>\n      <td>-154.129103</td>\n      <td>-117.302377</td>\n      <td>-102.254955</td>\n      <td>0.110737</td>\n      <td>0.145633</td>\n      <td>-0.960581</td>\n    </tr>\n    <tr>\n      <th>70</th>\n      <td>70</td>\n      <td>273</td>\n      <td>8.634383e-02</td>\n      <td>-155.845001</td>\n      <td>-118.833171</td>\n      <td>-105.124379</td>\n      <td>0.099020</td>\n      <td>0.154535</td>\n      <td>-1.076342</td>\n    </tr>\n    <tr>\n      <th>71</th>\n      <td>71</td>\n      <td>1652</td>\n      <td>9.615106e+01</td>\n      <td>-158.620335</td>\n      <td>-119.947848</td>\n      <td>-107.522630</td>\n      <td>0.090212</td>\n      <td>0.173241</td>\n      <td>-1.276759</td>\n    </tr>\n    <tr>\n      <th>72</th>\n      <td>72</td>\n      <td>357</td>\n      <td>1.333470e-01</td>\n      <td>-158.607685</td>\n      <td>-119.715119</td>\n      <td>-112.801702</td>\n      <td>0.071532</td>\n      <td>0.199852</td>\n      <td>-1.614853</td>\n    </tr>\n  </tbody>\n</table>\n<p>73 rows × 9 columns</p>\n</div>"
     },
     "execution_count": 3,
     "metadata": {},
     "output_type": "execute_result"
    }
   ],
   "source": [
    "df"
   ],
   "metadata": {
    "collapsed": false
   }
  },
  {
   "cell_type": "code",
   "execution_count": 69,
   "outputs": [
    {
     "data": {
      "text/plain": "         roll      pitch       yaw         x         y         z\n0         NaN        NaN       NaN       NaN       NaN       NaN\n1  -11.497652 -11.447907  2.582224  0.113026  0.110634  0.141501\n2   -4.049460  -0.665046 -1.021420  0.000553  0.003454 -0.083310\n3   -5.238905  -0.327741  0.241964  0.000286  0.000206 -0.110074\n4   -8.000000  -1.372411  3.148519 -0.002069 -0.019538 -0.066622\n..        ...        ...       ...       ...       ...       ...\n68  -2.582983  -1.398347 -2.308226 -0.010008  0.014929 -0.121838\n69  -1.372909  -1.205366 -3.599280 -0.010755  0.016244 -0.175805\n70  -1.715897  -1.530794 -2.869424 -0.011718  0.008902 -0.115761\n71  -2.775334  -1.114678 -2.398251 -0.008808  0.018706 -0.200417\n72   0.012650   0.232729 -5.279072 -0.018680  0.026611 -0.338094\n\n[73 rows x 6 columns]",
      "text/html": "<div>\n<style scoped>\n    .dataframe tbody tr th:only-of-type {\n        vertical-align: middle;\n    }\n\n    .dataframe tbody tr th {\n        vertical-align: top;\n    }\n\n    .dataframe thead th {\n        text-align: right;\n    }\n</style>\n<table border=\"1\" class=\"dataframe\">\n  <thead>\n    <tr style=\"text-align: right;\">\n      <th></th>\n      <th>roll</th>\n      <th>pitch</th>\n      <th>yaw</th>\n      <th>x</th>\n      <th>y</th>\n      <th>z</th>\n    </tr>\n  </thead>\n  <tbody>\n    <tr>\n      <th>0</th>\n      <td>NaN</td>\n      <td>NaN</td>\n      <td>NaN</td>\n      <td>NaN</td>\n      <td>NaN</td>\n      <td>NaN</td>\n    </tr>\n    <tr>\n      <th>1</th>\n      <td>-11.497652</td>\n      <td>-11.447907</td>\n      <td>2.582224</td>\n      <td>0.113026</td>\n      <td>0.110634</td>\n      <td>0.141501</td>\n    </tr>\n    <tr>\n      <th>2</th>\n      <td>-4.049460</td>\n      <td>-0.665046</td>\n      <td>-1.021420</td>\n      <td>0.000553</td>\n      <td>0.003454</td>\n      <td>-0.083310</td>\n    </tr>\n    <tr>\n      <th>3</th>\n      <td>-5.238905</td>\n      <td>-0.327741</td>\n      <td>0.241964</td>\n      <td>0.000286</td>\n      <td>0.000206</td>\n      <td>-0.110074</td>\n    </tr>\n    <tr>\n      <th>4</th>\n      <td>-8.000000</td>\n      <td>-1.372411</td>\n      <td>3.148519</td>\n      <td>-0.002069</td>\n      <td>-0.019538</td>\n      <td>-0.066622</td>\n    </tr>\n    <tr>\n      <th>...</th>\n      <td>...</td>\n      <td>...</td>\n      <td>...</td>\n      <td>...</td>\n      <td>...</td>\n      <td>...</td>\n    </tr>\n    <tr>\n      <th>68</th>\n      <td>-2.582983</td>\n      <td>-1.398347</td>\n      <td>-2.308226</td>\n      <td>-0.010008</td>\n      <td>0.014929</td>\n      <td>-0.121838</td>\n    </tr>\n    <tr>\n      <th>69</th>\n      <td>-1.372909</td>\n      <td>-1.205366</td>\n      <td>-3.599280</td>\n      <td>-0.010755</td>\n      <td>0.016244</td>\n      <td>-0.175805</td>\n    </tr>\n    <tr>\n      <th>70</th>\n      <td>-1.715897</td>\n      <td>-1.530794</td>\n      <td>-2.869424</td>\n      <td>-0.011718</td>\n      <td>0.008902</td>\n      <td>-0.115761</td>\n    </tr>\n    <tr>\n      <th>71</th>\n      <td>-2.775334</td>\n      <td>-1.114678</td>\n      <td>-2.398251</td>\n      <td>-0.008808</td>\n      <td>0.018706</td>\n      <td>-0.200417</td>\n    </tr>\n    <tr>\n      <th>72</th>\n      <td>0.012650</td>\n      <td>0.232729</td>\n      <td>-5.279072</td>\n      <td>-0.018680</td>\n      <td>0.026611</td>\n      <td>-0.338094</td>\n    </tr>\n  </tbody>\n</table>\n<p>73 rows × 6 columns</p>\n</div>"
     },
     "execution_count": 69,
     "metadata": {},
     "output_type": "execute_result"
    }
   ],
   "source": [
    "df.iloc[:, -6:].diff()"
   ],
   "metadata": {
    "collapsed": false
   }
  },
  {
   "cell_type": "code",
   "execution_count": 70,
   "outputs": [
    {
     "data": {
      "text/plain": "        roll     pitch       yaw         x         y         z\n0        NaN       NaN       NaN       NaN       NaN       NaN\n1        NaN       NaN       NaN       NaN       NaN       NaN\n2  -7.773556 -6.056476  0.780402  0.056790  0.057044  0.029095\n3  -4.644182 -0.496393 -0.389728  0.000419  0.001830 -0.096692\n4  -6.619452 -0.850076  1.695241 -0.000892 -0.009666 -0.088348\n..       ...       ...       ...       ...       ...       ...\n68 -2.242173 -1.346364 -2.635089 -0.009744  0.013617 -0.146019\n69 -1.977946 -1.301856 -2.953753 -0.010381  0.015587 -0.148822\n70 -1.544403 -1.368080 -3.234352 -0.011236  0.012573 -0.145783\n71 -2.245616 -1.322736 -2.633837 -0.010263  0.013804 -0.158089\n72 -1.381342 -0.440974 -3.838662 -0.013744  0.022659 -0.269255\n\n[73 rows x 6 columns]",
      "text/html": "<div>\n<style scoped>\n    .dataframe tbody tr th:only-of-type {\n        vertical-align: middle;\n    }\n\n    .dataframe tbody tr th {\n        vertical-align: top;\n    }\n\n    .dataframe thead th {\n        text-align: right;\n    }\n</style>\n<table border=\"1\" class=\"dataframe\">\n  <thead>\n    <tr style=\"text-align: right;\">\n      <th></th>\n      <th>roll</th>\n      <th>pitch</th>\n      <th>yaw</th>\n      <th>x</th>\n      <th>y</th>\n      <th>z</th>\n    </tr>\n  </thead>\n  <tbody>\n    <tr>\n      <th>0</th>\n      <td>NaN</td>\n      <td>NaN</td>\n      <td>NaN</td>\n      <td>NaN</td>\n      <td>NaN</td>\n      <td>NaN</td>\n    </tr>\n    <tr>\n      <th>1</th>\n      <td>NaN</td>\n      <td>NaN</td>\n      <td>NaN</td>\n      <td>NaN</td>\n      <td>NaN</td>\n      <td>NaN</td>\n    </tr>\n    <tr>\n      <th>2</th>\n      <td>-7.773556</td>\n      <td>-6.056476</td>\n      <td>0.780402</td>\n      <td>0.056790</td>\n      <td>0.057044</td>\n      <td>0.029095</td>\n    </tr>\n    <tr>\n      <th>3</th>\n      <td>-4.644182</td>\n      <td>-0.496393</td>\n      <td>-0.389728</td>\n      <td>0.000419</td>\n      <td>0.001830</td>\n      <td>-0.096692</td>\n    </tr>\n    <tr>\n      <th>4</th>\n      <td>-6.619452</td>\n      <td>-0.850076</td>\n      <td>1.695241</td>\n      <td>-0.000892</td>\n      <td>-0.009666</td>\n      <td>-0.088348</td>\n    </tr>\n    <tr>\n      <th>...</th>\n      <td>...</td>\n      <td>...</td>\n      <td>...</td>\n      <td>...</td>\n      <td>...</td>\n      <td>...</td>\n    </tr>\n    <tr>\n      <th>68</th>\n      <td>-2.242173</td>\n      <td>-1.346364</td>\n      <td>-2.635089</td>\n      <td>-0.009744</td>\n      <td>0.013617</td>\n      <td>-0.146019</td>\n    </tr>\n    <tr>\n      <th>69</th>\n      <td>-1.977946</td>\n      <td>-1.301856</td>\n      <td>-2.953753</td>\n      <td>-0.010381</td>\n      <td>0.015587</td>\n      <td>-0.148822</td>\n    </tr>\n    <tr>\n      <th>70</th>\n      <td>-1.544403</td>\n      <td>-1.368080</td>\n      <td>-3.234352</td>\n      <td>-0.011236</td>\n      <td>0.012573</td>\n      <td>-0.145783</td>\n    </tr>\n    <tr>\n      <th>71</th>\n      <td>-2.245616</td>\n      <td>-1.322736</td>\n      <td>-2.633837</td>\n      <td>-0.010263</td>\n      <td>0.013804</td>\n      <td>-0.158089</td>\n    </tr>\n    <tr>\n      <th>72</th>\n      <td>-1.381342</td>\n      <td>-0.440974</td>\n      <td>-3.838662</td>\n      <td>-0.013744</td>\n      <td>0.022659</td>\n      <td>-0.269255</td>\n    </tr>\n  </tbody>\n</table>\n<p>73 rows × 6 columns</p>\n</div>"
     },
     "execution_count": 70,
     "metadata": {},
     "output_type": "execute_result"
    }
   ],
   "source": [
    "df.iloc[:, -6:].diff().rolling(window=2).mean()"
   ],
   "metadata": {
    "collapsed": false
   }
  },
  {
   "cell_type": "code",
   "execution_count": 66,
   "outputs": [
    {
     "data": {
      "text/plain": "        roll      pitch       yaw             x         y         z\n0        NaN        NaN       NaN           NaN       NaN       NaN\n1        NaN        NaN       NaN           NaN       NaN       NaN\n2        NaN        NaN       NaN           NaN       NaN       NaN\n3   2.855313  14.585959  0.128851  1.418968e-03  0.001436  0.008608\n4   5.005117   0.341070  5.564084  2.751801e-06  0.000203  0.000402\n..       ...        ...       ...           ...       ...       ...\n68  0.648159   0.117720  0.695930  8.703669e-07  0.000006  0.001023\n69  0.335831   0.008836  0.413184  4.544636e-07  0.000003  0.000394\n70  0.030520   0.023294  0.003161  7.935647e-07  0.000020  0.000486\n71  0.673418   0.028539  0.310695  2.621603e-06  0.000017  0.001327\n72  2.266562   1.075321  3.109897  3.149137e-05  0.000073  0.014401\n\n[73 rows x 6 columns]",
      "text/html": "<div>\n<style scoped>\n    .dataframe tbody tr th:only-of-type {\n        vertical-align: middle;\n    }\n\n    .dataframe tbody tr th {\n        vertical-align: top;\n    }\n\n    .dataframe thead th {\n        text-align: right;\n    }\n</style>\n<table border=\"1\" class=\"dataframe\">\n  <thead>\n    <tr style=\"text-align: right;\">\n      <th></th>\n      <th>roll</th>\n      <th>pitch</th>\n      <th>yaw</th>\n      <th>x</th>\n      <th>y</th>\n      <th>z</th>\n    </tr>\n  </thead>\n  <tbody>\n    <tr>\n      <th>0</th>\n      <td>NaN</td>\n      <td>NaN</td>\n      <td>NaN</td>\n      <td>NaN</td>\n      <td>NaN</td>\n      <td>NaN</td>\n    </tr>\n    <tr>\n      <th>1</th>\n      <td>NaN</td>\n      <td>NaN</td>\n      <td>NaN</td>\n      <td>NaN</td>\n      <td>NaN</td>\n      <td>NaN</td>\n    </tr>\n    <tr>\n      <th>2</th>\n      <td>NaN</td>\n      <td>NaN</td>\n      <td>NaN</td>\n      <td>NaN</td>\n      <td>NaN</td>\n      <td>NaN</td>\n    </tr>\n    <tr>\n      <th>3</th>\n      <td>2.855313</td>\n      <td>14.585959</td>\n      <td>0.128851</td>\n      <td>1.418968e-03</td>\n      <td>0.001436</td>\n      <td>0.008608</td>\n    </tr>\n    <tr>\n      <th>4</th>\n      <td>5.005117</td>\n      <td>0.341070</td>\n      <td>5.564084</td>\n      <td>2.751801e-06</td>\n      <td>0.000203</td>\n      <td>0.000402</td>\n    </tr>\n    <tr>\n      <th>...</th>\n      <td>...</td>\n      <td>...</td>\n      <td>...</td>\n      <td>...</td>\n      <td>...</td>\n      <td>...</td>\n    </tr>\n    <tr>\n      <th>68</th>\n      <td>0.648159</td>\n      <td>0.117720</td>\n      <td>0.695930</td>\n      <td>8.703669e-07</td>\n      <td>0.000006</td>\n      <td>0.001023</td>\n    </tr>\n    <tr>\n      <th>69</th>\n      <td>0.335831</td>\n      <td>0.008836</td>\n      <td>0.413184</td>\n      <td>4.544636e-07</td>\n      <td>0.000003</td>\n      <td>0.000394</td>\n    </tr>\n    <tr>\n      <th>70</th>\n      <td>0.030520</td>\n      <td>0.023294</td>\n      <td>0.003161</td>\n      <td>7.935647e-07</td>\n      <td>0.000020</td>\n      <td>0.000486</td>\n    </tr>\n    <tr>\n      <th>71</th>\n      <td>0.673418</td>\n      <td>0.028539</td>\n      <td>0.310695</td>\n      <td>2.621603e-06</td>\n      <td>0.000017</td>\n      <td>0.001327</td>\n    </tr>\n    <tr>\n      <th>72</th>\n      <td>2.266562</td>\n      <td>1.075321</td>\n      <td>3.109897</td>\n      <td>3.149137e-05</td>\n      <td>0.000073</td>\n      <td>0.014401</td>\n    </tr>\n  </tbody>\n</table>\n<p>73 rows × 6 columns</p>\n</div>"
     },
     "execution_count": 66,
     "metadata": {},
     "output_type": "execute_result"
    }
   ],
   "source": [
    "((df.iloc[:, -6:].diff() - df.iloc[:, -6:].diff().rolling(window=3).mean()) ** 2)"
   ],
   "metadata": {
    "collapsed": false
   }
  },
  {
   "cell_type": "code",
   "execution_count": 64,
   "outputs": [
    {
     "name": "stdout",
     "output_type": "stream",
     "text": [
      "RMSE for moving average 3 = 7.239043008026549\n",
      "RMSE for moving average 4 = 8.402105387327211\n",
      "RMSE for moving average 5 = 9.180959873663651\n",
      "RMSE for moving average 6 = 9.658183067691805\n",
      "RMSE for moving average 7 = 10.194866757306018\n",
      "RMSE for moving average 8 = 10.301119880241318\n",
      "RMSE for moving average 9 = 10.506218837980276\n",
      "RMSE for moving average 10 = 10.708923663188093\n",
      "RMSE for moving average 11 = 10.716823938749037\n",
      "RMSE for moving average 12 = 10.742773610862402\n",
      "RMSE for moving average 13 = 10.7938734030945\n",
      "RMSE for moving average 14 = 10.952284192154933\n"
     ]
    }
   ],
   "source": [
    "for ma in range(3, 15):\n",
    "    df_ma_diff = ((df.iloc[:, -6:].diff() - df.iloc[:, -6:].diff().rolling(window=ma).mean()) ** 2)\n",
    "    print(\"RMSE for moving average \" + str(ma) + \" = \" + str(np.sum(np.sqrt((df_ma_diff.sum() / (len(df) - ma))))))"
   ],
   "metadata": {
    "collapsed": false
   }
  },
  {
   "cell_type": "code",
   "execution_count": null,
   "outputs": [],
   "source": [
    "mean_diff = np.mean(np.diff(np.array(fine_data[-n_ma:]), axis=0), axis=0)\n",
    "std_diff = np.std(np.diff(np.array(fine_data[-n_ma:]), axis=0), axis=0)\n",
    "deg_roll_sma = mean_diff[3]\n",
    "deg_pitch_sma = mean_diff[4]\n",
    "deg_yaw_sma = mean_diff[5]\n",
    "trans_x_sma = mean_diff[6]\n",
    "trans_y_sma = mean_diff[7]\n",
    "trans_z_sma = mean_diff[8]"
   ],
   "metadata": {
    "collapsed": false
   }
  }
 ],
 "metadata": {
  "kernelspec": {
   "display_name": "Python 3",
   "language": "python",
   "name": "python3"
  },
  "language_info": {
   "codemirror_mode": {
    "name": "ipython",
    "version": 2
   },
   "file_extension": ".py",
   "mimetype": "text/x-python",
   "name": "python",
   "nbconvert_exporter": "python",
   "pygments_lexer": "ipython2",
   "version": "2.7.6"
  }
 },
 "nbformat": 4,
 "nbformat_minor": 0
}
