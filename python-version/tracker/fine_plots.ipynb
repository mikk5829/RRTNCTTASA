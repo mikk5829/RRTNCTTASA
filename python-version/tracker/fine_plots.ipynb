{
 "cells": [
  {
   "cell_type": "code",
   "execution_count": 665,
   "metadata": {
    "collapsed": true
   },
   "outputs": [],
   "source": [
    "import math\n",
    "import numpy as np\n",
    "\n",
    "import seaborn as sns\n",
    "import pandas as pd\n",
    "import matplotlib.pyplot as plt\n",
    "\n",
    "sns.set()\n",
    "sns.set_context(\"paper\", font_scale=1.2)\n",
    "import warnings\n",
    "\n",
    "warnings.simplefilter(action='ignore', category=FutureWarning)"
   ]
  },
  {
   "cell_type": "code",
   "execution_count": 666,
   "outputs": [],
   "source": [
    "# data = []\n",
    "# for i in range(360, 0, -5):\n",
    "#     data.append([i, -90, 0])\n",
    "#\n",
    "# df_real = pd.DataFrame(data, columns=['correct_roll', 'correct_pitch', 'correct_yaw'])\n",
    "# df_real['correct_roll'] = df_real['correct_roll'].apply(lambda x: x % 360)\n",
    "# df_real.to_csv(\"../test_images/perfect_5degstep/real_scores.csv\")"
   ],
   "metadata": {
    "collapsed": false
   }
  },
  {
   "cell_type": "code",
   "execution_count": 667,
   "outputs": [],
   "source": [
    "three_d_points = np.array([\n",
    "    [-0.08, -2.30333333, 1.19666667],  # Top right solar panel\n",
    "    [-0.15666667, -0.84333333, 1.19666667],  # Top left solar panel\n",
    "    [-0.08, -2.30333333, -0.78333333],  # Bottom right solar panel\n",
    "    [-0.15666667, -0.84333333, -0.78333333],  # Bottom left solar panel\n",
    "    [-0.24333333, 1.03, -0.65333333],  # Bottom left satellite\n",
    "])\n",
    "\n",
    "\n",
    "def get_rotated_point(roll, pitch, yaw, point=None):\n",
    "    if point is None:\n",
    "        point = [-0.08, -2.30333333, 1.19666667]\n",
    "\n",
    "    r_roll = np.array([[1, 0, 0],\n",
    "                       [0, math.cos(roll / 180 * math.pi), -math.sin(roll / 180 * math.pi)],\n",
    "                       [0, math.sin(roll / 180 * math.pi), math.cos(roll / 180 * math.pi)]])\n",
    "\n",
    "    r_pitch = np.array([[math.cos(pitch / 180 * math.pi), 0, math.sin(pitch / 180 * math.pi)],\n",
    "                        [0, 1, 0],\n",
    "                        [-math.sin(pitch / 180 * math.pi), 0, math.cos(pitch / 180 * math.pi)]])\n",
    "\n",
    "    r_yaw = np.array([[math.cos(yaw / 180 * math.pi), -math.sin(yaw / 180 * math.pi), 0],\n",
    "                      [math.sin(yaw / 180 * math.pi), math.cos(yaw / 180 * math.pi), 0],\n",
    "                      [0, 0, 1]])\n",
    "\n",
    "    rotation_matrix = r_yaw @ r_pitch @ r_roll\n",
    "\n",
    "    rotated_3d_points = np.dot(rotation_matrix, point)\n",
    "\n",
    "    return rotated_3d_points"
   ],
   "metadata": {
    "collapsed": false
   }
  },
  {
   "cell_type": "code",
   "execution_count": 668,
   "outputs": [],
   "source": [
    "df_real = pd.read_csv(\"../test_images/dynamic_unknowndeg_0to360_5degstep/real_scores.csv\")"
   ],
   "metadata": {
    "collapsed": false
   }
  },
  {
   "cell_type": "code",
   "execution_count": 669,
   "outputs": [
    {
     "data": {
      "text/plain": "    correct_roll  correct_pitch  correct_yaw\n0     127.970000     -79.560000   -44.000000\n1     123.295573     -78.244572   -44.152291\n2     119.068439     -76.935369   -44.763274\n3     115.161870     -75.638750   -45.707437\n4     111.491226     -74.359729   -46.901282\n..           ...            ...          ...\n68    157.623186     -84.620406   -54.433702\n69    147.366750     -83.432329   -48.971823\n70    139.573127     -82.170727   -45.978678\n71    133.288987     -80.872993   -44.502381\n72    127.970000     -79.560000   -44.000000\n\n[73 rows x 3 columns]",
      "text/html": "<div>\n<style scoped>\n    .dataframe tbody tr th:only-of-type {\n        vertical-align: middle;\n    }\n\n    .dataframe tbody tr th {\n        vertical-align: top;\n    }\n\n    .dataframe thead th {\n        text-align: right;\n    }\n</style>\n<table border=\"1\" class=\"dataframe\">\n  <thead>\n    <tr style=\"text-align: right;\">\n      <th></th>\n      <th>correct_roll</th>\n      <th>correct_pitch</th>\n      <th>correct_yaw</th>\n    </tr>\n  </thead>\n  <tbody>\n    <tr>\n      <th>0</th>\n      <td>127.970000</td>\n      <td>-79.560000</td>\n      <td>-44.000000</td>\n    </tr>\n    <tr>\n      <th>1</th>\n      <td>123.295573</td>\n      <td>-78.244572</td>\n      <td>-44.152291</td>\n    </tr>\n    <tr>\n      <th>2</th>\n      <td>119.068439</td>\n      <td>-76.935369</td>\n      <td>-44.763274</td>\n    </tr>\n    <tr>\n      <th>3</th>\n      <td>115.161870</td>\n      <td>-75.638750</td>\n      <td>-45.707437</td>\n    </tr>\n    <tr>\n      <th>4</th>\n      <td>111.491226</td>\n      <td>-74.359729</td>\n      <td>-46.901282</td>\n    </tr>\n    <tr>\n      <th>...</th>\n      <td>...</td>\n      <td>...</td>\n      <td>...</td>\n    </tr>\n    <tr>\n      <th>68</th>\n      <td>157.623186</td>\n      <td>-84.620406</td>\n      <td>-54.433702</td>\n    </tr>\n    <tr>\n      <th>69</th>\n      <td>147.366750</td>\n      <td>-83.432329</td>\n      <td>-48.971823</td>\n    </tr>\n    <tr>\n      <th>70</th>\n      <td>139.573127</td>\n      <td>-82.170727</td>\n      <td>-45.978678</td>\n    </tr>\n    <tr>\n      <th>71</th>\n      <td>133.288987</td>\n      <td>-80.872993</td>\n      <td>-44.502381</td>\n    </tr>\n    <tr>\n      <th>72</th>\n      <td>127.970000</td>\n      <td>-79.560000</td>\n      <td>-44.000000</td>\n    </tr>\n  </tbody>\n</table>\n<p>73 rows × 3 columns</p>\n</div>"
     },
     "execution_count": 669,
     "metadata": {},
     "output_type": "execute_result"
    }
   ],
   "source": [
    "df_real"
   ],
   "metadata": {
    "collapsed": false
   }
  },
  {
   "cell_type": "code",
   "execution_count": 670,
   "outputs": [],
   "source": [
    "df_3eps = pd.read_csv(\"../test_images/dynamic_unknowndeg_0to360_5degstep/fine_scores_linefit_eps2.csv\")\n",
    "df_2eps = pd.read_csv(\"../test_images/dynamic_unknowndeg_0to360_5degstep/fine_scores_linefit_eps3.csv\")\n",
    "df_3eps_linefit = pd.read_csv(\"../test_images/dynamic_unknowndeg_0to360_5degstep/fine_scores_linefit_eps4.csv\")\n",
    "df_3eps_linefit_new_contour = pd.read_csv(\".\"\n",
    "                                          \"./test_images/dynamic_unknowndeg_0to360_5degstep/fine_scores_3eps_linefit_newContour.csv\")\n",
    "\n",
    "# rename columns yaw to roll, pitch to yaw, roll to pitch\n",
    "# df_3eps = df_3eps.rename(columns={'yaw': 'roll', 'pitch': 'yaw', 'roll': 'pitch'})\n",
    "# df_2eps = df_2eps.rename(columns={'yaw': 'roll', 'pitch': 'yaw', 'roll': 'pitch'})\n",
    "# df_3eps_linefit = df_3eps_linefit.rename(columns={'yaw': 'roll', 'pitch': 'yaw', 'roll': 'pitch'})\n",
    "# merge all\n",
    "df = df_3eps.merge(df_2eps, left_index=True, right_index=True, suffixes=('_linefit_eps2', '_linefit_eps3'))\n",
    "# add _linefit to column names in df_3eps_linefit\n",
    "# df_3eps_linefit.columns = [str(col) + '_linefit' for col in df_3eps_linefit.columns]\n",
    "\n",
    "df_2 = df_3eps_linefit.merge(df_3eps_linefit_new_contour, left_index=True, right_index=True,\n",
    "                             suffixes=('_linefit_eps4',\n",
    "                                       '_linefit_new_contour'))\n",
    "df = df.merge(df_2, left_index=True, right_index=True)\n",
    "df = df.merge(df_real, left_index=True, right_index=True)\n",
    "# df rename columns yaw to roll, pitch to yaw, roll to pitch, remember suffixes"
   ],
   "metadata": {
    "collapsed": false
   }
  },
  {
   "cell_type": "code",
   "execution_count": 671,
   "outputs": [
    {
     "data": {
      "text/plain": "    img_number_linefit_eps2  iterations_linefit_eps2  loss_linefit_eps2  \\\n0                         0                     1904       1.735185e+02   \n1                         1                      574       1.904264e+00   \n2                         2                      413       2.410220e-01   \n3                         3                      889       4.610998e-10   \n4                         4                      518       1.374141e+00   \n..                      ...                      ...                ...   \n68                       68                      455       4.441726e-02   \n69                       69                      441       1.325996e-10   \n70                       70                      336       2.349860e+00   \n71                       71                      280       8.780837e-01   \n72                       72                      868       4.318498e+02   \n\n    roll_linefit_eps2  pitch_linefit_eps2  yaw_linefit_eps2  x_linefit_eps2  \\\n0           26.215003          -57.550000         63.036350        0.042279   \n1          -18.277729         -115.004070         99.257843        0.223378   \n2          -19.584925         -115.335725         95.257843        0.235663   \n3          -21.734955         -115.796453         92.270346        0.232172   \n4          -29.017048         -116.600528         94.841751        0.238481   \n..                ...                 ...               ...             ...   \n68        -366.036886         -113.388565        112.819799        0.195001   \n69        -367.550142         -114.358806        109.148971        0.191567   \n70        -368.398214         -114.440822        105.061200        0.196914   \n71        -371.794597         -115.709405        102.978075        0.193147   \n72        -371.322050         -115.456064         98.532858        0.172341   \n\n    y_linefit_eps2  z_linefit_eps2  img_number_linefit_eps3  ...  \\\n0         0.222542       -1.600000                        0  ...   \n1         0.114417       -0.292200                        1  ...   \n2         0.137549       -0.272570                        2  ...   \n3         0.149174       -0.419060                        3  ...   \n4         0.123581       -0.418679                        4  ...   \n..             ...             ...                      ...  ...   \n68        0.047544       -0.224206                       68  ...   \n69        0.062954       -0.292805                       69  ...   \n70        0.082131       -0.215629                       70  ...   \n71        0.105112       -0.400751                       71  ...   \n72        0.100050       -0.330955                       72  ...   \n\n    loss_linefit_new_contour  roll_linefit_new_contour  \\\n0               2.288345e+00                  1.344030   \n1               5.298577e+00                 -6.655970   \n2               2.216305e+00                -14.655970   \n3               1.321475e+00                -22.655970   \n4               1.182179e-02                -27.762335   \n..                       ...                       ...   \n68              1.629017e+03               -153.180386   \n69              9.133302e+02               -162.099845   \n70              2.485378e-10               -160.634105   \n71              1.352744e+01               -158.894603   \n72              3.370148e-10               -157.417276   \n\n    pitch_linefit_new_contour  yaw_linefit_new_contour  x_linefit_new_contour  \\\n0                  -97.550000                85.326284               0.263975   \n1                 -101.550000                87.841300               0.244179   \n2                 -105.550000                90.780911               0.235814   \n3                 -109.550000                93.790801               0.221000   \n4                 -113.550000                94.063321               0.211029   \n..                        ...                      ...                    ...   \n68                -116.676055              -100.743541               0.108015   \n69                -113.579476               -97.002522               0.164439   \n70                -122.756378              -100.093142               0.100035   \n71                -115.646718              -107.601157               0.181977   \n72                -116.987804              -114.249816               0.117561   \n\n    y_linefit_new_contour  z_linefit_new_contour  correct_roll  correct_pitch  \\\n0                0.153383               0.135632    127.970000     -79.560000   \n1                0.168821              -0.031439    123.295573     -78.244572   \n2                0.163017              -0.202880    119.068439     -76.935369   \n3                0.145875              -0.402880    115.161870     -75.638750   \n4                0.116411              -0.566680    111.491226     -74.359729   \n..                    ...                    ...           ...            ...   \n68               0.131474              -0.822842    157.623186     -84.620406   \n69               0.165365              -0.021425    147.366750     -83.432329   \n70               0.107563              -1.079725    139.573127     -82.170727   \n71               0.179990              -0.661002    133.288987     -80.872993   \n72               0.195737              -1.189791    127.970000     -79.560000   \n\n    correct_yaw  \n0    -44.000000  \n1    -44.152291  \n2    -44.763274  \n3    -45.707437  \n4    -46.901282  \n..          ...  \n68   -54.433702  \n69   -48.971823  \n70   -45.978678  \n71   -44.502381  \n72   -44.000000  \n\n[73 rows x 39 columns]",
      "text/html": "<div>\n<style scoped>\n    .dataframe tbody tr th:only-of-type {\n        vertical-align: middle;\n    }\n\n    .dataframe tbody tr th {\n        vertical-align: top;\n    }\n\n    .dataframe thead th {\n        text-align: right;\n    }\n</style>\n<table border=\"1\" class=\"dataframe\">\n  <thead>\n    <tr style=\"text-align: right;\">\n      <th></th>\n      <th>img_number_linefit_eps2</th>\n      <th>iterations_linefit_eps2</th>\n      <th>loss_linefit_eps2</th>\n      <th>roll_linefit_eps2</th>\n      <th>pitch_linefit_eps2</th>\n      <th>yaw_linefit_eps2</th>\n      <th>x_linefit_eps2</th>\n      <th>y_linefit_eps2</th>\n      <th>z_linefit_eps2</th>\n      <th>img_number_linefit_eps3</th>\n      <th>...</th>\n      <th>loss_linefit_new_contour</th>\n      <th>roll_linefit_new_contour</th>\n      <th>pitch_linefit_new_contour</th>\n      <th>yaw_linefit_new_contour</th>\n      <th>x_linefit_new_contour</th>\n      <th>y_linefit_new_contour</th>\n      <th>z_linefit_new_contour</th>\n      <th>correct_roll</th>\n      <th>correct_pitch</th>\n      <th>correct_yaw</th>\n    </tr>\n  </thead>\n  <tbody>\n    <tr>\n      <th>0</th>\n      <td>0</td>\n      <td>1904</td>\n      <td>1.735185e+02</td>\n      <td>26.215003</td>\n      <td>-57.550000</td>\n      <td>63.036350</td>\n      <td>0.042279</td>\n      <td>0.222542</td>\n      <td>-1.600000</td>\n      <td>0</td>\n      <td>...</td>\n      <td>2.288345e+00</td>\n      <td>1.344030</td>\n      <td>-97.550000</td>\n      <td>85.326284</td>\n      <td>0.263975</td>\n      <td>0.153383</td>\n      <td>0.135632</td>\n      <td>127.970000</td>\n      <td>-79.560000</td>\n      <td>-44.000000</td>\n    </tr>\n    <tr>\n      <th>1</th>\n      <td>1</td>\n      <td>574</td>\n      <td>1.904264e+00</td>\n      <td>-18.277729</td>\n      <td>-115.004070</td>\n      <td>99.257843</td>\n      <td>0.223378</td>\n      <td>0.114417</td>\n      <td>-0.292200</td>\n      <td>1</td>\n      <td>...</td>\n      <td>5.298577e+00</td>\n      <td>-6.655970</td>\n      <td>-101.550000</td>\n      <td>87.841300</td>\n      <td>0.244179</td>\n      <td>0.168821</td>\n      <td>-0.031439</td>\n      <td>123.295573</td>\n      <td>-78.244572</td>\n      <td>-44.152291</td>\n    </tr>\n    <tr>\n      <th>2</th>\n      <td>2</td>\n      <td>413</td>\n      <td>2.410220e-01</td>\n      <td>-19.584925</td>\n      <td>-115.335725</td>\n      <td>95.257843</td>\n      <td>0.235663</td>\n      <td>0.137549</td>\n      <td>-0.272570</td>\n      <td>2</td>\n      <td>...</td>\n      <td>2.216305e+00</td>\n      <td>-14.655970</td>\n      <td>-105.550000</td>\n      <td>90.780911</td>\n      <td>0.235814</td>\n      <td>0.163017</td>\n      <td>-0.202880</td>\n      <td>119.068439</td>\n      <td>-76.935369</td>\n      <td>-44.763274</td>\n    </tr>\n    <tr>\n      <th>3</th>\n      <td>3</td>\n      <td>889</td>\n      <td>4.610998e-10</td>\n      <td>-21.734955</td>\n      <td>-115.796453</td>\n      <td>92.270346</td>\n      <td>0.232172</td>\n      <td>0.149174</td>\n      <td>-0.419060</td>\n      <td>3</td>\n      <td>...</td>\n      <td>1.321475e+00</td>\n      <td>-22.655970</td>\n      <td>-109.550000</td>\n      <td>93.790801</td>\n      <td>0.221000</td>\n      <td>0.145875</td>\n      <td>-0.402880</td>\n      <td>115.161870</td>\n      <td>-75.638750</td>\n      <td>-45.707437</td>\n    </tr>\n    <tr>\n      <th>4</th>\n      <td>4</td>\n      <td>518</td>\n      <td>1.374141e+00</td>\n      <td>-29.017048</td>\n      <td>-116.600528</td>\n      <td>94.841751</td>\n      <td>0.238481</td>\n      <td>0.123581</td>\n      <td>-0.418679</td>\n      <td>4</td>\n      <td>...</td>\n      <td>1.182179e-02</td>\n      <td>-27.762335</td>\n      <td>-113.550000</td>\n      <td>94.063321</td>\n      <td>0.211029</td>\n      <td>0.116411</td>\n      <td>-0.566680</td>\n      <td>111.491226</td>\n      <td>-74.359729</td>\n      <td>-46.901282</td>\n    </tr>\n    <tr>\n      <th>...</th>\n      <td>...</td>\n      <td>...</td>\n      <td>...</td>\n      <td>...</td>\n      <td>...</td>\n      <td>...</td>\n      <td>...</td>\n      <td>...</td>\n      <td>...</td>\n      <td>...</td>\n      <td>...</td>\n      <td>...</td>\n      <td>...</td>\n      <td>...</td>\n      <td>...</td>\n      <td>...</td>\n      <td>...</td>\n      <td>...</td>\n      <td>...</td>\n      <td>...</td>\n      <td>...</td>\n    </tr>\n    <tr>\n      <th>68</th>\n      <td>68</td>\n      <td>455</td>\n      <td>4.441726e-02</td>\n      <td>-366.036886</td>\n      <td>-113.388565</td>\n      <td>112.819799</td>\n      <td>0.195001</td>\n      <td>0.047544</td>\n      <td>-0.224206</td>\n      <td>68</td>\n      <td>...</td>\n      <td>1.629017e+03</td>\n      <td>-153.180386</td>\n      <td>-116.676055</td>\n      <td>-100.743541</td>\n      <td>0.108015</td>\n      <td>0.131474</td>\n      <td>-0.822842</td>\n      <td>157.623186</td>\n      <td>-84.620406</td>\n      <td>-54.433702</td>\n    </tr>\n    <tr>\n      <th>69</th>\n      <td>69</td>\n      <td>441</td>\n      <td>1.325996e-10</td>\n      <td>-367.550142</td>\n      <td>-114.358806</td>\n      <td>109.148971</td>\n      <td>0.191567</td>\n      <td>0.062954</td>\n      <td>-0.292805</td>\n      <td>69</td>\n      <td>...</td>\n      <td>9.133302e+02</td>\n      <td>-162.099845</td>\n      <td>-113.579476</td>\n      <td>-97.002522</td>\n      <td>0.164439</td>\n      <td>0.165365</td>\n      <td>-0.021425</td>\n      <td>147.366750</td>\n      <td>-83.432329</td>\n      <td>-48.971823</td>\n    </tr>\n    <tr>\n      <th>70</th>\n      <td>70</td>\n      <td>336</td>\n      <td>2.349860e+00</td>\n      <td>-368.398214</td>\n      <td>-114.440822</td>\n      <td>105.061200</td>\n      <td>0.196914</td>\n      <td>0.082131</td>\n      <td>-0.215629</td>\n      <td>70</td>\n      <td>...</td>\n      <td>2.485378e-10</td>\n      <td>-160.634105</td>\n      <td>-122.756378</td>\n      <td>-100.093142</td>\n      <td>0.100035</td>\n      <td>0.107563</td>\n      <td>-1.079725</td>\n      <td>139.573127</td>\n      <td>-82.170727</td>\n      <td>-45.978678</td>\n    </tr>\n    <tr>\n      <th>71</th>\n      <td>71</td>\n      <td>280</td>\n      <td>8.780837e-01</td>\n      <td>-371.794597</td>\n      <td>-115.709405</td>\n      <td>102.978075</td>\n      <td>0.193147</td>\n      <td>0.105112</td>\n      <td>-0.400751</td>\n      <td>71</td>\n      <td>...</td>\n      <td>1.352744e+01</td>\n      <td>-158.894603</td>\n      <td>-115.646718</td>\n      <td>-107.601157</td>\n      <td>0.181977</td>\n      <td>0.179990</td>\n      <td>-0.661002</td>\n      <td>133.288987</td>\n      <td>-80.872993</td>\n      <td>-44.502381</td>\n    </tr>\n    <tr>\n      <th>72</th>\n      <td>72</td>\n      <td>868</td>\n      <td>4.318498e+02</td>\n      <td>-371.322050</td>\n      <td>-115.456064</td>\n      <td>98.532858</td>\n      <td>0.172341</td>\n      <td>0.100050</td>\n      <td>-0.330955</td>\n      <td>72</td>\n      <td>...</td>\n      <td>3.370148e-10</td>\n      <td>-157.417276</td>\n      <td>-116.987804</td>\n      <td>-114.249816</td>\n      <td>0.117561</td>\n      <td>0.195737</td>\n      <td>-1.189791</td>\n      <td>127.970000</td>\n      <td>-79.560000</td>\n      <td>-44.000000</td>\n    </tr>\n  </tbody>\n</table>\n<p>73 rows × 39 columns</p>\n</div>"
     },
     "execution_count": 671,
     "metadata": {},
     "output_type": "execute_result"
    }
   ],
   "source": [
    "df"
   ],
   "metadata": {
    "collapsed": false
   }
  },
  {
   "cell_type": "code",
   "execution_count": 672,
   "outputs": [],
   "source": [
    "# data = []\n",
    "# for i in range(360, 0, -5):\n",
    "#     data.append([i, -90, 0])\n",
    "#\n",
    "# df_real = pd.DataFrame(data, columns=['correct_roll', 'correct_pitch', 'correct_yaw'])\n",
    "# df_real['correct_roll'] = df_real['correct_roll'].apply(lambda x: x % 360)\n",
    "# df_real.to_csv(\"../test_images/perfect_5degstep/real_scores.csv\")"
   ],
   "metadata": {
    "collapsed": false
   }
  },
  {
   "cell_type": "code",
   "execution_count": 673,
   "outputs": [],
   "source": [
    "three_d_points = np.array([\n",
    "    [-0.08, -2.30333333, 1.19666667],  # Top right solar panel\n",
    "    [-0.15666667, -0.84333333, 1.19666667],  # Top left solar panel\n",
    "    [-0.08, -2.30333333, -0.78333333],  # Bottom right solar panel\n",
    "    [-0.15666667, -0.84333333, -0.78333333],  # Bottom left solar panel\n",
    "    [-0.24333333, 1.03, -0.65333333],  # Bottom left satellite\n",
    "])\n",
    "\n",
    "\n",
    "def get_rotated_point(roll, pitch, yaw, point=None):\n",
    "    if point is None:\n",
    "        point = [-0.08, -2.30333333, 1.19666667]\n",
    "\n",
    "    r_roll = np.array([[1, 0, 0],\n",
    "                       [0, math.cos(roll / 180 * math.pi), -math.sin(roll / 180 * math.pi)],\n",
    "                       [0, math.sin(roll / 180 * math.pi), math.cos(roll / 180 * math.pi)]])\n",
    "\n",
    "    r_pitch = np.array([[math.cos(pitch / 180 * math.pi), 0, math.sin(pitch / 180 * math.pi)],\n",
    "                        [0, 1, 0],\n",
    "                        [-math.sin(pitch / 180 * math.pi), 0, math.cos(pitch / 180 * math.pi)]])\n",
    "\n",
    "    r_yaw = np.array([[math.cos(yaw / 180 * math.pi), -math.sin(yaw / 180 * math.pi), 0],\n",
    "                      [math.sin(yaw / 180 * math.pi), math.cos(yaw / 180 * math.pi), 0],\n",
    "                      [0, 0, 1]])\n",
    "\n",
    "    rotation_matrix = r_yaw @ r_pitch @ r_roll\n",
    "\n",
    "    rotated_3d_points = np.dot(rotation_matrix, point)\n",
    "\n",
    "    return rotated_3d_points"
   ],
   "metadata": {
    "collapsed": false
   }
  },
  {
   "cell_type": "code",
   "execution_count": 674,
   "outputs": [],
   "source": [
    "df_real = pd.read_csv(\"../test_images/dynamic_unknowndeg_0to360_5degstep/real_scores.csv\")"
   ],
   "metadata": {
    "collapsed": false
   }
  },
  {
   "cell_type": "code",
   "execution_count": 675,
   "outputs": [
    {
     "data": {
      "text/plain": "    correct_roll  correct_pitch  correct_yaw\n0     127.970000     -79.560000   -44.000000\n1     123.295573     -78.244572   -44.152291\n2     119.068439     -76.935369   -44.763274\n3     115.161870     -75.638750   -45.707437\n4     111.491226     -74.359729   -46.901282\n..           ...            ...          ...\n68    157.623186     -84.620406   -54.433702\n69    147.366750     -83.432329   -48.971823\n70    139.573127     -82.170727   -45.978678\n71    133.288987     -80.872993   -44.502381\n72    127.970000     -79.560000   -44.000000\n\n[73 rows x 3 columns]",
      "text/html": "<div>\n<style scoped>\n    .dataframe tbody tr th:only-of-type {\n        vertical-align: middle;\n    }\n\n    .dataframe tbody tr th {\n        vertical-align: top;\n    }\n\n    .dataframe thead th {\n        text-align: right;\n    }\n</style>\n<table border=\"1\" class=\"dataframe\">\n  <thead>\n    <tr style=\"text-align: right;\">\n      <th></th>\n      <th>correct_roll</th>\n      <th>correct_pitch</th>\n      <th>correct_yaw</th>\n    </tr>\n  </thead>\n  <tbody>\n    <tr>\n      <th>0</th>\n      <td>127.970000</td>\n      <td>-79.560000</td>\n      <td>-44.000000</td>\n    </tr>\n    <tr>\n      <th>1</th>\n      <td>123.295573</td>\n      <td>-78.244572</td>\n      <td>-44.152291</td>\n    </tr>\n    <tr>\n      <th>2</th>\n      <td>119.068439</td>\n      <td>-76.935369</td>\n      <td>-44.763274</td>\n    </tr>\n    <tr>\n      <th>3</th>\n      <td>115.161870</td>\n      <td>-75.638750</td>\n      <td>-45.707437</td>\n    </tr>\n    <tr>\n      <th>4</th>\n      <td>111.491226</td>\n      <td>-74.359729</td>\n      <td>-46.901282</td>\n    </tr>\n    <tr>\n      <th>...</th>\n      <td>...</td>\n      <td>...</td>\n      <td>...</td>\n    </tr>\n    <tr>\n      <th>68</th>\n      <td>157.623186</td>\n      <td>-84.620406</td>\n      <td>-54.433702</td>\n    </tr>\n    <tr>\n      <th>69</th>\n      <td>147.366750</td>\n      <td>-83.432329</td>\n      <td>-48.971823</td>\n    </tr>\n    <tr>\n      <th>70</th>\n      <td>139.573127</td>\n      <td>-82.170727</td>\n      <td>-45.978678</td>\n    </tr>\n    <tr>\n      <th>71</th>\n      <td>133.288987</td>\n      <td>-80.872993</td>\n      <td>-44.502381</td>\n    </tr>\n    <tr>\n      <th>72</th>\n      <td>127.970000</td>\n      <td>-79.560000</td>\n      <td>-44.000000</td>\n    </tr>\n  </tbody>\n</table>\n<p>73 rows × 3 columns</p>\n</div>"
     },
     "execution_count": 675,
     "metadata": {},
     "output_type": "execute_result"
    }
   ],
   "source": [
    "df_real"
   ],
   "metadata": {
    "collapsed": false
   }
  },
  {
   "cell_type": "code",
   "execution_count": 676,
   "outputs": [],
   "source": [
    "suffixes = ['_linefit_eps2', '_linefit_eps3', '_linefit_eps4', '_linefit_new_contour']\n",
    "nice_suffixes = [s.removeprefix(\"_\").replace('_', ' ').capitalize() for s in suffixes]\n",
    "colors = ['red', 'green', 'blue', 'orange']"
   ],
   "metadata": {
    "collapsed": false
   }
  },
  {
   "cell_type": "code",
   "execution_count": 677,
   "outputs": [],
   "source": [
    "for i, point in enumerate(three_d_points):\n",
    "    df_real[[str(i) + 'x_real', str(i) + 'y_real', str(i) + 'z_real']] = df_real.apply(\n",
    "        lambda row: get_rotated_point(row['correct_roll'], row['correct_pitch'], row['correct_yaw']), axis=1,\n",
    "        result_type='expand')\n",
    "    for suffix in suffixes:\n",
    "        df[[str(i) + 'x_calculated' + suffix, str(i) + 'y_calculated' + suffix,\n",
    "            str(i) + 'z_calculated' + suffix]] = df.apply(\n",
    "            lambda row: get_rotated_point(row['roll' + suffix], row['pitch' + suffix], row['yaw' + suffix], point),\n",
    "            axis=1,\n",
    "            result_type='expand')\n",
    "\n",
    "df = df.merge(df_real, left_index=True, right_index=True)"
   ],
   "metadata": {
    "collapsed": false
   }
  },
  {
   "cell_type": "code",
   "execution_count": 678,
   "outputs": [],
   "source": [
    "# x, y, z, x_true, y_true, z_true, suffix as columns from df\n",
    "for i, point in enumerate(three_d_points):\n",
    "    df_real[[str(i) + 'x_real', str(i) + 'y_real', str(i) + 'z_real']] = df_real.apply(\n",
    "        lambda row: get_rotated_point(row['correct_roll'], row['correct_pitch'], row['correct_yaw']), axis=1,\n",
    "        result_type='expand')\n",
    "    for suffix in suffixes:\n",
    "        df[[str(i) + 'x_calculated' + suffix, str(i) + 'y_calculated' + suffix,\n",
    "            str(i) + 'z_calculated' + suffix]] = df.apply(\n",
    "            lambda row: get_rotated_point(row['roll' + suffix], row['pitch' + suffix], row['yaw' + suffix], point),\n",
    "            axis=1,\n",
    "            result_type='expand')"
   ],
   "metadata": {
    "collapsed": false
   }
  },
  {
   "cell_type": "code",
   "execution_count": 679,
   "outputs": [
    {
     "data": {
      "text/plain": "         value  value_true axis               suffix  point\n0     2.272010    2.124061    x         Linefit eps2      0\n1    -1.257111   -1.392590    y         Linefit eps2      0\n2    -0.037405   -0.541120    z         Linefit eps2      0\n3     2.053775    2.124061    x         Linefit eps2      0\n4    -1.337675   -1.392590    y         Linefit eps2      0\n...        ...         ...  ...                  ...    ...\n4375  0.466358    0.774589    y  Linefit new contour      4\n4376 -0.322640   -0.019331    z  Linefit new contour      4\n4377 -1.065200   -0.972931    x  Linefit new contour      4\n4378  0.561718    0.774589    y  Linefit new contour      4\n4379 -0.311091   -0.019331    z  Linefit new contour      4\n\n[4380 rows x 5 columns]",
      "text/html": "<div>\n<style scoped>\n    .dataframe tbody tr th:only-of-type {\n        vertical-align: middle;\n    }\n\n    .dataframe tbody tr th {\n        vertical-align: top;\n    }\n\n    .dataframe thead th {\n        text-align: right;\n    }\n</style>\n<table border=\"1\" class=\"dataframe\">\n  <thead>\n    <tr style=\"text-align: right;\">\n      <th></th>\n      <th>value</th>\n      <th>value_true</th>\n      <th>axis</th>\n      <th>suffix</th>\n      <th>point</th>\n    </tr>\n  </thead>\n  <tbody>\n    <tr>\n      <th>0</th>\n      <td>2.272010</td>\n      <td>2.124061</td>\n      <td>x</td>\n      <td>Linefit eps2</td>\n      <td>0</td>\n    </tr>\n    <tr>\n      <th>1</th>\n      <td>-1.257111</td>\n      <td>-1.392590</td>\n      <td>y</td>\n      <td>Linefit eps2</td>\n      <td>0</td>\n    </tr>\n    <tr>\n      <th>2</th>\n      <td>-0.037405</td>\n      <td>-0.541120</td>\n      <td>z</td>\n      <td>Linefit eps2</td>\n      <td>0</td>\n    </tr>\n    <tr>\n      <th>3</th>\n      <td>2.053775</td>\n      <td>2.124061</td>\n      <td>x</td>\n      <td>Linefit eps2</td>\n      <td>0</td>\n    </tr>\n    <tr>\n      <th>4</th>\n      <td>-1.337675</td>\n      <td>-1.392590</td>\n      <td>y</td>\n      <td>Linefit eps2</td>\n      <td>0</td>\n    </tr>\n    <tr>\n      <th>...</th>\n      <td>...</td>\n      <td>...</td>\n      <td>...</td>\n      <td>...</td>\n      <td>...</td>\n    </tr>\n    <tr>\n      <th>4375</th>\n      <td>0.466358</td>\n      <td>0.774589</td>\n      <td>y</td>\n      <td>Linefit new contour</td>\n      <td>4</td>\n    </tr>\n    <tr>\n      <th>4376</th>\n      <td>-0.322640</td>\n      <td>-0.019331</td>\n      <td>z</td>\n      <td>Linefit new contour</td>\n      <td>4</td>\n    </tr>\n    <tr>\n      <th>4377</th>\n      <td>-1.065200</td>\n      <td>-0.972931</td>\n      <td>x</td>\n      <td>Linefit new contour</td>\n      <td>4</td>\n    </tr>\n    <tr>\n      <th>4378</th>\n      <td>0.561718</td>\n      <td>0.774589</td>\n      <td>y</td>\n      <td>Linefit new contour</td>\n      <td>4</td>\n    </tr>\n    <tr>\n      <th>4379</th>\n      <td>-0.311091</td>\n      <td>-0.019331</td>\n      <td>z</td>\n      <td>Linefit new contour</td>\n      <td>4</td>\n    </tr>\n  </tbody>\n</table>\n<p>4380 rows × 5 columns</p>\n</div>"
     },
     "execution_count": 679,
     "metadata": {},
     "output_type": "execute_result"
    }
   ],
   "source": [
    "# x, y, z, x_true, y_true, z_true, suffix as columns from df\n",
    "data = []\n",
    "for i, point in enumerate(three_d_points):\n",
    "    for row in df_real.iterrows():\n",
    "        x_true, y_true, z_true = get_rotated_point(row[1]['correct_roll'], row[1]['correct_pitch'],\n",
    "                                                   row[1]['correct_yaw'], point)\n",
    "    for j, suffix in enumerate(suffixes):\n",
    "        for row in df.iterrows():\n",
    "            x, y, z = get_rotated_point(row[1]['roll' + suffix], row[1]['pitch' + suffix], row[1]['yaw' + suffix],\n",
    "                                        point)\n",
    "            data.append([x, x_true, \"x\", nice_suffixes[j], i])\n",
    "            data.append([y, y_true, \"y\", nice_suffixes[j], i])\n",
    "            data.append([z, z_true, \"z\", nice_suffixes[j], i])\n",
    "\n",
    "df_dist_predict = pd.DataFrame(data, columns=['value', 'value_true', 'axis', 'suffix', 'point'])\n",
    "df_dist_predict"
   ],
   "metadata": {
    "collapsed": false
   }
  },
  {
   "cell_type": "code",
   "execution_count": 680,
   "outputs": [
    {
     "data": {
      "text/plain": "<seaborn.axisgrid.FacetGrid at 0x1576a6490>"
     },
     "execution_count": 680,
     "metadata": {},
     "output_type": "execute_result"
    },
    {
     "data": {
      "text/plain": "<Figure size 1800x1500 with 20 Axes>",
      "image/png": "[encoded data removed]"
     },
     "metadata": {},
     "output_type": "display_data"
    }
   ],
   "source": [
    "g = sns.FacetGrid(df_dist_predict, col=\"suffix\", row=\"point\", hue=\"axis\", sharex=True, sharey=True, height=3,\n",
    "                  aspect=1.5, legend_out=False)\n",
    "g.map(sns.scatterplot, \"value_true\", \"value\")\n",
    "g.add_legend()\n"
   ],
   "metadata": {
    "collapsed": false
   }
  },
  {
   "cell_type": "code",
   "execution_count": null,
   "outputs": [
    {
     "name": "stderr",
     "output_type": "stream",
     "text": [
      "/Users/mikkel/repos/RRTNCTTASA/python-version/.venv/lib/python3.9/site-packages/seaborn/regression.py:582: UserWarning: sharex is deprecated from the `lmplot` function signature. Please update your code to pass it using `facet_kws`.\n",
      "  warnings.warn(msg, UserWarning)\n",
      "/Users/mikkel/repos/RRTNCTTASA/python-version/.venv/lib/python3.9/site-packages/seaborn/regression.py:582: UserWarning: sharey is deprecated from the `lmplot` function signature. Please update your code to pass it using `facet_kws`.\n",
      "  warnings.warn(msg, UserWarning)\n"
     ]
    }
   ],
   "source": [
    "sns.lmplot(data=df_dist_predict, x='value_true', y='value', hue='axis', col='suffix', row='point', sharex=True,\n",
    "           sharey=True, height=3, aspect=1.5, legend=False)"
   ],
   "metadata": {
    "collapsed": false,
    "pycharm": {
     "is_executing": true
    }
   }
  },
  {
   "cell_type": "code",
   "execution_count": null,
   "outputs": [],
   "source": [
    "for i, point in enumerate(three_d_points):\n",
    "    df_real[[str(i) + 'x_real', str(i) + 'y_real', str(i) + 'z_real']] = df_real.apply(\n",
    "        lambda row: get_rotated_point(row['correct_roll'], row['correct_pitch'], row['correct_yaw']), axis=1,\n",
    "        result_type='expand')\n",
    "    for suffix in suffixes:\n",
    "        df[[str(i) + 'x_calculated' + suffix, str(i) + 'y_calculated' + suffix,\n",
    "            str(i) + 'z_calculated' + suffix]] = df.apply(\n",
    "            lambda row: get_rotated_point(row['roll' + suffix], row['pitch' + suffix], row['yaw' + suffix], point),\n",
    "            axis=1,\n",
    "            result_type='expand')\n",
    "\n",
    "df = df.merge(df_real, left_index=True, right_index=True)"
   ],
   "metadata": {
    "collapsed": false,
    "pycharm": {
     "is_executing": true
    }
   }
  },
  {
   "cell_type": "code",
   "execution_count": null,
   "outputs": [],
   "source": [
    "# x, y, z, x_true, y_true, z_true, suffix as columns from df\n",
    "for i, point in enumerate(three_d_points):\n",
    "    df_real[[str(i) + 'x_real', str(i) + 'y_real', str(i) + 'z_real']] = df_real.apply(\n",
    "        lambda row: get_rotated_point(row['correct_roll'], row['correct_pitch'], row['correct_yaw']), axis=1,\n",
    "        result_type='expand')\n",
    "    for suffix in suffixes:\n",
    "        df[[str(i) + 'x_calculated' + suffix, str(i) + 'y_calculated' + suffix,\n",
    "            str(i) + 'z_calculated' + suffix]] = df.apply(\n",
    "            lambda row: get_rotated_point(row['roll' + suffix], row['pitch' + suffix], row['yaw' + suffix], point),\n",
    "            axis=1,\n",
    "            result_type='expand')"
   ],
   "metadata": {
    "collapsed": false,
    "pycharm": {
     "is_executing": true
    }
   }
  },
  {
   "cell_type": "code",
   "execution_count": null,
   "outputs": [],
   "source": [
    "# make 3d plot of calculated points\n",
    "for i in range(0, 1):\n",
    "    for suffix, color in zip(suffixes, colors):\n",
    "        fig = plt.figure()\n",
    "        ax = plt.axes(projection='3d')\n",
    "        # ax.view_init(azim=-90, elev=-90)\n",
    "        ax.scatter3D(df[str(i) + 'x_calculated' + suffix], df[str(i) + 'y_calculated' + suffix],\n",
    "                     df[str(i) + 'z_calculated' + suffix],\n",
    "                     color=color);\n",
    "        # first and last point in black\n",
    "\n",
    "        ax.scatter3D(df[str(i) + 'x_calculated' + suffix].iloc[0], df[str(i) + 'y_calculated' + suffix].iloc[0],\n",
    "                     df[str(i) + 'z_calculated' + suffix].iloc[0], color=\"black\");\n",
    "        # ax.scatter3D(df['x_calculated' + suffix].iloc[-1], df['y_calculated' + suffix].iloc[-1],\n",
    "        #              df['z_calculated' + suffix].iloc[-1], color=\"black\");\n",
    "\n",
    "        ax.scatter3D(df_real[str(i) + 'x_real'], df_real[str(i) + 'y_real'], df_real[str(i) + 'z_real'], color=\"black\");\n",
    "        ax.set_xlabel('x')\n",
    "        ax.set_ylabel('y')\n",
    "        ax.set_zlabel('z')\n",
    "        ax.set_title('calculated ' + suffix + \" point \" + str(i))\n",
    "        plt.show()"
   ],
   "metadata": {
    "collapsed": false,
    "pycharm": {
     "is_executing": true
    }
   }
  },
  {
   "cell_type": "code",
   "execution_count": null,
   "outputs": [],
   "source": [
    "# make 3d plot of calculated points\n",
    "for suffix, color in zip(suffixes, colors):\n",
    "    fig = plt.figure()\n",
    "    ax = plt.axes(projection='3d')\n",
    "    # ax.view_init(azim=-90, elev=-90)\n",
    "    ax.scatter3D(df['x_calculated' + suffix], df['y_calculated' + suffix], df['z_calculated' + suffix], color=color);\n",
    "    # first and last point in black\n",
    "    ax.scatter3D(df['x_calculated' + suffix].iloc[0], df['y_calculated' + suffix].iloc[0],\n",
    "                 df['z_calculated' + suffix].iloc[0], color=\"black\");\n",
    "    ax.scatter3D(df['x_calculated' + suffix].iloc[-1], df['y_calculated' + suffix].iloc[-1],\n",
    "                 df['z_calculated' + suffix].iloc[-1], color=\"black\");\n",
    "\n",
    "    ax.scatter3D(df_real['x_real'], df_real['y_real'], df_real['z_real'], color=\"black\");\n",
    "    ax.set_xlabel('x')\n",
    "    ax.set_ylabel('y')\n",
    "    ax.set_zlabel('z')\n",
    "    ax.set_title('calculated ' + suffix)\n",
    "    plt.show()"
   ],
   "metadata": {
    "collapsed": false,
    "pycharm": {
     "is_executing": true
    }
   }
  },
  {
   "cell_type": "code",
   "execution_count": null,
   "outputs": [],
   "source": [
    "# make residual plot from real x and x\n",
    "fig, axes = plt.subplots(3, 1, figsize=(10, 10), sharex=True)\n",
    "for suffix, color in zip(suffixes, colors):\n",
    "    sns.residplot(ax=axes[0], data=df, x='x_real', y='x_calculated' + suffix, color=color);\n",
    "    sns.residplot(ax=axes[1], data=df, x='y_real', y='y_calculated' + suffix, color=color);\n",
    "    sns.residplot(ax=axes[2], data=df, x='z_real', y='z_calculated' + suffix, color=color);"
   ],
   "metadata": {
    "collapsed": false,
    "pycharm": {
     "is_executing": true
    }
   }
  },
  {
   "cell_type": "code",
   "execution_count": null,
   "outputs": [],
   "source": [
    "def get_distance(x1, y1, z1, x2, y2, z2):\n",
    "    return math.sqrt((x1 - x2) ** 2 + (y1 - y2) ** 2 + (z1 - z2) ** 2)\n",
    "\n",
    "\n",
    "for i, point in enumerate(three_d_points):\n",
    "    for suffix in suffixes:\n",
    "        df[str(i) + 'distance' + suffix] = df.apply(\n",
    "            lambda row: get_distance(row[str(i) + 'x_calculated' + suffix], row[str(i) + 'y_calculated' + suffix],\n",
    "                                     row[str(i) + 'z_calculated' + suffix],\n",
    "                                     row[str(i) + 'x_real'], row[str(i) + 'y_real'], row[str(i) + 'z_real']), axis=1)\n"
   ],
   "metadata": {
    "collapsed": false,
    "pycharm": {
     "is_executing": true
    }
   }
  },
  {
   "cell_type": "code",
   "execution_count": null,
   "outputs": [],
   "source": [
    "print(\"Mean distance to real point\")\n",
    "for i, point in enumerate(three_d_points):\n",
    "    print(\"Point \" + str(i))\n",
    "    for suffix in suffixes:\n",
    "        print(suffix + \": \" + str(df[str(i) + 'distance' + suffix].mean()))"
   ],
   "metadata": {
    "collapsed": false,
    "pycharm": {
     "is_executing": true
    }
   }
  },
  {
   "cell_type": "code",
   "execution_count": null,
   "outputs": [],
   "source": [
    "df"
   ],
   "metadata": {
    "collapsed": false,
    "pycharm": {
     "is_executing": true
    }
   }
  },
  {
   "cell_type": "code",
   "execution_count": null,
   "outputs": [],
   "source": [
    "# plot distance to real point\n",
    "fig, axes = plt.subplots(3, 1, figsize=(10, 10), sharex=True)\n",
    "for suffix, color in zip(suffixes, colors):\n",
    "    sns.scatterplot(ax=axes[0], data=df, x='img_number' + suffix, y='distance' + suffix, color=color);\n",
    "    sns.scatterplot(ax=axes[1], data=df, x='img_number' + suffix, y='distance' + suffix, color=color);\n",
    "    sns.scatterplot(ax=axes[2], data=df, x='img_number' + suffix, y='distance' + suffix, color=color);\n",
    "\n"
   ],
   "metadata": {
    "collapsed": false,
    "pycharm": {
     "is_executing": true
    }
   }
  },
  {
   "cell_type": "code",
   "execution_count": null,
   "outputs": [],
   "source": [
    "fig, axes = plt.subplots(3, 1, figsize=(10, 10), sharex=True)\n",
    "for suffix, color in zip(suffixes, colors):\n",
    "    sns.scatterplot(ax=axes[0], data=df, x='img_number' + suffix, y='pitch' + suffix, color=color);\n",
    "    sns.scatterplot(ax=axes[1], data=df, x='img_number' + suffix, y='yaw' + suffix, color=color);\n",
    "    sns.scatterplot(ax=axes[2], data=df, x='img_number' + suffix, y='roll' + suffix, color=color);\n",
    "# axes[0].set_yticks(range(0, 361, 45));\n",
    "# sns.scatterplot(ax=axes[1], data=df, x='img_number_x', y='yaw_x', hue='loss_x');\n",
    "# sns.scatterplot(ax=axes[1], data=df, x='img_number_y', y='yaw_y', hue='loss_y', alpha=0.5);\n",
    "# # axes[1].set_yticks(range(-90, 91, 45));\n",
    "# sns.scatterplot(ax=axes[2], data=df, x='img_number_x', y='roll_x', hue='loss_x');\n",
    "# sns.scatterplot(ax=axes[2], data=df, x='img_number_y', y='roll_y', hue='loss_y', alpha=0.5);\n",
    "\n",
    "nice_names = [s.replace('_', ' ') for s in suffixes]\n",
    "fig.legend(labels=nice_names, loc='center right', bbox_to_anchor=(1, 0.5))\n",
    "# axes[2].set_yticks(range(0, 361, 45));"
   ],
   "metadata": {
    "collapsed": false,
    "pycharm": {
     "is_executing": true
    }
   }
  },
  {
   "cell_type": "code",
   "execution_count": null,
   "outputs": [],
   "source": [
    "fig, axes = plt.subplots(3, 1, figsize=(10, 10), sharex=True)\n",
    "for suffix, color in zip(suffixes, colors):\n",
    "    sns.scatterplot(ax=axes[0], data=df, x='img_number' + suffix, y='x' + suffix, color=color);\n",
    "    sns.scatterplot(ax=axes[1], data=df, x='img_number' + suffix, y='y' + suffix, color=color);\n",
    "    sns.scatterplot(ax=axes[2], data=df, x='img_number' + suffix, y='z' + suffix, color=color);\n",
    "\n",
    "nice_names = [s.replace('_', ' ') for s in suffixes]\n",
    "fig.legend(labels=nice_names, loc='center right', bbox_to_anchor=(1, 0.5))"
   ],
   "metadata": {
    "collapsed": false,
    "pycharm": {
     "is_executing": true
    }
   }
  },
  {
   "cell_type": "code",
   "execution_count": null,
   "outputs": [],
   "source": [
    "df"
   ],
   "metadata": {
    "collapsed": false,
    "pycharm": {
     "is_executing": true
    }
   }
  },
  {
   "cell_type": "code",
   "execution_count": null,
   "outputs": [],
   "source": [
    "#flatten list\n",
    "plots = sorted([item for sublist in [['x' + s, 'y' + s, 'z' + s] for s in suffixes] for item in sublist])\n",
    "df[plots].describe()\n"
   ],
   "metadata": {
    "collapsed": false,
    "pycharm": {
     "is_executing": true
    }
   }
  },
  {
   "cell_type": "code",
   "execution_count": null,
   "outputs": [],
   "source": [
    "df[sorted([item for sublist in [['iterations' + s, 'loss' + s] for s in suffixes] for item in sublist])].describe()"
   ],
   "metadata": {
    "collapsed": false,
    "pycharm": {
     "is_executing": true
    }
   }
  },
  {
   "cell_type": "code",
   "execution_count": null,
   "outputs": [],
   "source": [],
   "metadata": {
    "collapsed": false,
    "pycharm": {
     "is_executing": true
    }
   }
  },
  {
   "cell_type": "code",
   "execution_count": null,
   "outputs": [],
   "source": [
    "# plot roll, pitch, yaw in 3d\n",
    "ax = plt.axes(projection='3d')\n",
    "ax.scatter3D(df['roll'], df['pitch'], df['yaw'], c=df['loss'], cmap='Greens');\n",
    "ax.scatter3D(df['correct_roll'], df['correct_pitch'], df['correct_yaw'], color='red', alpha=0.5);\n",
    "ax.set_xlabel('roll')\n",
    "ax.set_ylabel('pitch')\n",
    "ax.set_zlabel('yaw')\n",
    "plt.show()"
   ],
   "metadata": {
    "collapsed": false,
    "pycharm": {
     "is_executing": true
    }
   }
  },
  {
   "cell_type": "code",
   "execution_count": null,
   "outputs": [],
   "source": [
    "sns.scatterplot(data=df, x='correct_roll', y='roll', hue='loss')"
   ],
   "metadata": {
    "collapsed": false,
    "pycharm": {
     "is_executing": true
    }
   }
  },
  {
   "cell_type": "code",
   "execution_count": null,
   "outputs": [],
   "source": [
    "df['roll_diff'] = df['og_correct_roll'] - df['og_roll']\n",
    "sns.scatterplot(data=df[abs(df['roll_diff']) > 4], x='img_number', y='roll_diff', hue='roll_diff')"
   ],
   "metadata": {
    "collapsed": false,
    "pycharm": {
     "is_executing": true
    }
   }
  },
  {
   "cell_type": "code",
   "execution_count": null,
   "outputs": [],
   "source": [
    "# make residual plot from real roll and roll\n",
    "sns.residplot(data=df, x='og_correct_roll', y='og_roll');"
   ],
   "metadata": {
    "collapsed": false,
    "pycharm": {
     "is_executing": true
    }
   }
  },
  {
   "cell_type": "code",
   "execution_count": null,
   "outputs": [],
   "source": [
    "ax = sns.regplot(data=df, x='correct_roll', y='roll');"
   ],
   "metadata": {
    "collapsed": false,
    "pycharm": {
     "is_executing": true
    }
   }
  },
  {
   "cell_type": "code",
   "execution_count": null,
   "outputs": [],
   "source": [
    "# df['rounded_loss'] to nearest 1 decimal place\n",
    "df['rounded_loss'] = df['loss'].apply(lambda x: round(x, 0))"
   ],
   "metadata": {
    "collapsed": false,
    "pycharm": {
     "is_executing": true
    }
   }
  },
  {
   "cell_type": "code",
   "execution_count": null,
   "outputs": [],
   "source": [
    "sns.lmplot(data=df[df['rounded_loss'] > 1], x='og_real_roll', y='og_roll');"
   ],
   "metadata": {
    "collapsed": false,
    "pycharm": {
     "is_executing": true
    }
   }
  },
  {
   "cell_type": "code",
   "execution_count": null,
   "outputs": [],
   "source": [
    "sns.scatterplot(data=df[df['rounded_loss'] > 3], y='og_roll', x='img_number');"
   ],
   "metadata": {
    "collapsed": false,
    "pycharm": {
     "is_executing": true
    }
   }
  },
  {
   "cell_type": "code",
   "execution_count": null,
   "outputs": [],
   "source": [
    "sns.scatterplot(data=df, y='loss', x='iterations');"
   ],
   "metadata": {
    "collapsed": false,
    "pycharm": {
     "is_executing": true
    }
   }
  },
  {
   "cell_type": "code",
   "execution_count": null,
   "outputs": [],
   "source": [
    "suffixes = ['_3eps', '_2eps', '_linefit', '_linefit_new_contour']\n",
    "colors = ['red', 'green', 'blue', 'orange']\n",
    "\n",
    "for i, point in enumerate(three_d_points):\n",
    "    df_real[[str(i) + 'x_real', str(i) + 'y_real', str(i) + 'z_real']] = df_real.apply(\n",
    "        lambda row: get_rotated_point(row['correct_roll'], row['correct_pitch'], row['correct_yaw']), axis=1,\n",
    "        result_type='expand')\n",
    "    for suffix in suffixes:\n",
    "        df[[str(i) + 'x_calculated' + suffix, str(i) + 'y_calculated' + suffix,\n",
    "            str(i) + 'z_calculated' + suffix]] = df.apply(\n",
    "            lambda row: get_rotated_point(row['roll' + suffix], row['pitch' + suffix], row['yaw' + suffix], point),\n",
    "            axis=1,\n",
    "            result_type='expand')\n",
    "\n",
    "df = df.merge(df_real, left_index=True, right_index=True)"
   ],
   "metadata": {
    "collapsed": false,
    "pycharm": {
     "is_executing": true
    }
   }
  },
  {
   "cell_type": "code",
   "execution_count": null,
   "outputs": [],
   "source": [
    "df[['iterations_linefit_new_contour', 'loss_linefit_new_contour']].describe()"
   ],
   "metadata": {
    "collapsed": false,
    "pycharm": {
     "is_executing": true
    }
   }
  },
  {
   "cell_type": "code",
   "execution_count": null,
   "outputs": [],
   "source": [
    "# make 3d plot of calculated points\n",
    "for i in range(0, 1):\n",
    "    for suffix, color in zip(suffixes, colors):\n",
    "        fig = plt.figure()\n",
    "        ax = plt.axes(projection='3d')\n",
    "        # ax.view_init(azim=-90, elev=-90)\n",
    "        ax.scatter3D(df[str(i) + 'x_calculated' + suffix], df[str(i) + 'y_calculated' + suffix],\n",
    "                     df[str(i) + 'z_calculated' + suffix],\n",
    "                     color=color);\n",
    "        # first and last point in black\n",
    "        # ax.scatter3D(df['x_calculated' + suffix].iloc[0], df['y_calculated' + suffix].iloc[0],\n",
    "        #              df['z_calculated' + suffix].iloc[0], color=\"black\");\n",
    "        # ax.scatter3D(df['x_calculated' + suffix].iloc[-1], df['y_calculated' + suffix].iloc[-1],\n",
    "        #              df['z_calculated' + suffix].iloc[-1], color=\"black\");\n",
    "\n",
    "        ax.scatter3D(df_real[str(i) + 'x_real'], df_real[str(i) + 'y_real'], df_real[str(i) + 'z_real'], color=\"black\");\n",
    "        ax.set_xlabel('x')\n",
    "        ax.set_ylabel('y')\n",
    "        ax.set_zlabel('z')\n",
    "        ax.set_title('calculated ' + suffix + \" point \" + str(i))\n",
    "        plt.show()"
   ],
   "metadata": {
    "collapsed": false,
    "pycharm": {
     "is_executing": true
    }
   }
  },
  {
   "cell_type": "code",
   "execution_count": null,
   "outputs": [],
   "source": [
    "# make 3d plot of calculated points\n",
    "for suffix, color in zip(suffixes, colors):\n",
    "    fig = plt.figure()\n",
    "    ax = plt.axes(projection='3d')\n",
    "    # ax.view_init(azim=-90, elev=-90)\n",
    "    ax.scatter3D(df['x_calculated' + suffix], df['y_calculated' + suffix], df['z_calculated' + suffix], color=color);\n",
    "    # first and last point in black\n",
    "    ax.scatter3D(df['x_calculated' + suffix].iloc[0], df['y_calculated' + suffix].iloc[0],\n",
    "                 df['z_calculated' + suffix].iloc[0], color=\"black\");\n",
    "    ax.scatter3D(df['x_calculated' + suffix].iloc[-1], df['y_calculated' + suffix].iloc[-1],\n",
    "                 df['z_calculated' + suffix].iloc[-1], color=\"black\");\n",
    "\n",
    "    ax.scatter3D(df_real['x_real'], df_real['y_real'], df_real['z_real'], color=\"black\");\n",
    "    ax.set_xlabel('x')\n",
    "    ax.set_ylabel('y')\n",
    "    ax.set_zlabel('z')\n",
    "    ax.set_title('calculated ' + suffix)\n",
    "    plt.show()"
   ],
   "metadata": {
    "collapsed": false,
    "pycharm": {
     "is_executing": true
    }
   }
  },
  {
   "cell_type": "code",
   "execution_count": null,
   "outputs": [],
   "source": [
    "# make residual plot from real x and x\n",
    "fig, axes = plt.subplots(3, 1, figsize=(10, 10), sharex=True)\n",
    "for suffix, color in zip(suffixes, colors):\n",
    "    sns.residplot(ax=axes[0], data=df, x='x_real', y='x_calculated' + suffix, color=color);\n",
    "    sns.residplot(ax=axes[1], data=df, x='y_real', y='y_calculated' + suffix, color=color);\n",
    "    sns.residplot(ax=axes[2], data=df, x='z_real', y='z_calculated' + suffix, color=color);"
   ],
   "metadata": {
    "collapsed": false,
    "pycharm": {
     "is_executing": true
    }
   }
  },
  {
   "cell_type": "code",
   "execution_count": null,
   "outputs": [],
   "source": [
    "def get_distance(x1, y1, z1, x2, y2, z2):\n",
    "    return math.sqrt((x1 - x2) ** 2 + (y1 - y2) ** 2 + (z1 - z2) ** 2)\n",
    "\n",
    "\n",
    "for i, point in enumerate(three_d_points):\n",
    "    for suffix in suffixes:\n",
    "        df[str(i) + 'distance' + suffix] = df.apply(\n",
    "            lambda row: get_distance(row[str(i) + 'x_calculated' + suffix], row[str(i) + 'y_calculated' + suffix],\n",
    "                                     row[str(i) + 'z_calculated' + suffix],\n",
    "                                     row[str(i) + 'x_real'], row[str(i) + 'y_real'], row[str(i) + 'z_real']), axis=1)\n"
   ],
   "metadata": {
    "collapsed": false,
    "pycharm": {
     "is_executing": true
    }
   }
  },
  {
   "cell_type": "code",
   "execution_count": null,
   "outputs": [],
   "source": [
    "print(\"Mean distance to real point\")\n",
    "for i, point in enumerate(three_d_points):\n",
    "    print(\"Point \" + str(i))\n",
    "    for suffix in suffixes:\n",
    "        print(suffix + \": \" + str(df[str(i) + 'distance' + suffix].mean()))"
   ],
   "metadata": {
    "collapsed": false,
    "pycharm": {
     "is_executing": true
    }
   }
  },
  {
   "cell_type": "code",
   "execution_count": null,
   "outputs": [],
   "source": [
    "df"
   ],
   "metadata": {
    "collapsed": false,
    "pycharm": {
     "is_executing": true
    }
   }
  },
  {
   "cell_type": "code",
   "execution_count": null,
   "outputs": [],
   "source": [
    "# plot distance to real point\n",
    "fig, axes = plt.subplots(3, 1, figsize=(10, 10), sharex=True)\n",
    "for suffix, color in zip(suffixes, colors):\n",
    "    sns.scatterplot(ax=axes[0], data=df, x='img_number' + suffix, y='distance' + suffix, color=color);\n",
    "    sns.scatterplot(ax=axes[1], data=df, x='img_number' + suffix, y='distance' + suffix, color=color);\n",
    "    sns.scatterplot(ax=axes[2], data=df, x='img_number' + suffix, y='distance' + suffix, color=color);\n",
    "\n"
   ],
   "metadata": {
    "collapsed": false,
    "pycharm": {
     "is_executing": true
    }
   }
  },
  {
   "cell_type": "code",
   "execution_count": null,
   "outputs": [],
   "source": [
    "fig, axes = plt.subplots(3, 1, figsize=(10, 10), sharex=True)\n",
    "for suffix, color in zip(suffixes, colors):\n",
    "    sns.scatterplot(ax=axes[0], data=df, x='img_number' + suffix, y='pitch' + suffix, color=color);\n",
    "    sns.scatterplot(ax=axes[1], data=df, x='img_number' + suffix, y='yaw' + suffix, color=color);\n",
    "    sns.scatterplot(ax=axes[2], data=df, x='img_number' + suffix, y='roll' + suffix, color=color);\n",
    "# axes[0].set_yticks(range(0, 361, 45));\n",
    "# sns.scatterplot(ax=axes[1], data=df, x='img_number_x', y='yaw_x', hue='loss_x');\n",
    "# sns.scatterplot(ax=axes[1], data=df, x='img_number_y', y='yaw_y', hue='loss_y', alpha=0.5);\n",
    "# # axes[1].set_yticks(range(-90, 91, 45));\n",
    "# sns.scatterplot(ax=axes[2], data=df, x='img_number_x', y='roll_x', hue='loss_x');\n",
    "# sns.scatterplot(ax=axes[2], data=df, x='img_number_y', y='roll_y', hue='loss_y', alpha=0.5);\n",
    "\n",
    "nice_names = [s.replace('_', ' ') for s in suffixes]\n",
    "fig.legend(labels=nice_names, loc='center right', bbox_to_anchor=(1, 0.5))\n",
    "# axes[2].set_yticks(range(0, 361, 45));"
   ],
   "metadata": {
    "collapsed": false,
    "pycharm": {
     "is_executing": true
    }
   }
  },
  {
   "cell_type": "code",
   "execution_count": null,
   "outputs": [],
   "source": [
    "fig, axes = plt.subplots(3, 1, figsize=(10, 10), sharex=True)\n",
    "for suffix, color in zip(suffixes, colors):\n",
    "    sns.scatterplot(ax=axes[0], data=df, x='img_number' + suffix, y='x' + suffix, color=color);\n",
    "    sns.scatterplot(ax=axes[1], data=df, x='img_number' + suffix, y='y' + suffix, color=color);\n",
    "    sns.scatterplot(ax=axes[2], data=df, x='img_number' + suffix, y='z' + suffix, color=color);\n",
    "\n",
    "nice_names = [s.replace('_', ' ') for s in suffixes]\n",
    "fig.legend(labels=nice_names, loc='center right', bbox_to_anchor=(1, 0.5))"
   ],
   "metadata": {
    "collapsed": false,
    "pycharm": {
     "is_executing": true
    }
   }
  },
  {
   "cell_type": "code",
   "execution_count": null,
   "outputs": [],
   "source": [
    "df"
   ],
   "metadata": {
    "collapsed": false,
    "pycharm": {
     "is_executing": true
    }
   }
  },
  {
   "cell_type": "code",
   "execution_count": null,
   "outputs": [],
   "source": [
    "#flatten list\n",
    "plots = sorted([item for sublist in [['x' + s, 'y' + s, 'z' + s] for s in suffixes] for item in sublist])\n",
    "df[plots].describe()\n"
   ],
   "metadata": {
    "collapsed": false,
    "pycharm": {
     "is_executing": true
    }
   }
  },
  {
   "cell_type": "code",
   "execution_count": null,
   "outputs": [],
   "source": [
    "df[sorted([item for sublist in [['iterations' + s, 'loss' + s] for s in suffixes] for item in sublist])].describe()"
   ],
   "metadata": {
    "collapsed": false,
    "pycharm": {
     "is_executing": true
    }
   }
  },
  {
   "cell_type": "code",
   "execution_count": null,
   "outputs": [],
   "source": [],
   "metadata": {
    "collapsed": false,
    "pycharm": {
     "is_executing": true
    }
   }
  },
  {
   "cell_type": "code",
   "execution_count": null,
   "outputs": [],
   "source": [
    "# plot roll, pitch, yaw in 3d\n",
    "ax = plt.axes(projection='3d')\n",
    "ax.scatter3D(df['roll'], df['pitch'], df['yaw'], c=df['loss'], cmap='Greens');\n",
    "ax.scatter3D(df['correct_roll'], df['correct_pitch'], df['correct_yaw'], color='red', alpha=0.5);\n",
    "ax.set_xlabel('roll')\n",
    "ax.set_ylabel('pitch')\n",
    "ax.set_zlabel('yaw')\n",
    "plt.show()"
   ],
   "metadata": {
    "collapsed": false,
    "pycharm": {
     "is_executing": true
    }
   }
  },
  {
   "cell_type": "code",
   "execution_count": null,
   "outputs": [],
   "source": [
    "sns.scatterplot(data=df, x='correct_roll', y='roll', hue='loss')"
   ],
   "metadata": {
    "collapsed": false,
    "pycharm": {
     "is_executing": true
    }
   }
  },
  {
   "cell_type": "code",
   "execution_count": null,
   "outputs": [],
   "source": [
    "df['roll_diff'] = df['og_correct_roll'] - df['og_roll']\n",
    "sns.scatterplot(data=df[abs(df['roll_diff']) > 4], x='img_number', y='roll_diff', hue='roll_diff')"
   ],
   "metadata": {
    "collapsed": false,
    "pycharm": {
     "is_executing": true
    }
   }
  },
  {
   "cell_type": "code",
   "execution_count": null,
   "outputs": [],
   "source": [
    "# make residual plot from real roll and roll\n",
    "sns.residplot(data=df, x='og_correct_roll', y='og_roll');"
   ],
   "metadata": {
    "collapsed": false,
    "pycharm": {
     "is_executing": true
    }
   }
  },
  {
   "cell_type": "code",
   "execution_count": null,
   "outputs": [],
   "source": [
    "ax = sns.regplot(data=df, x='correct_roll', y='roll');"
   ],
   "metadata": {
    "collapsed": false,
    "pycharm": {
     "is_executing": true
    }
   }
  },
  {
   "cell_type": "code",
   "execution_count": null,
   "outputs": [],
   "source": [
    "# df['rounded_loss'] to nearest 1 decimal place\n",
    "df['rounded_loss'] = df['loss'].apply(lambda x: round(x, 0))"
   ],
   "metadata": {
    "collapsed": false,
    "pycharm": {
     "is_executing": true
    }
   }
  },
  {
   "cell_type": "code",
   "execution_count": null,
   "outputs": [],
   "source": [
    "sns.lmplot(data=df[df['rounded_loss'] > 1], x='og_real_roll', y='og_roll');"
   ],
   "metadata": {
    "collapsed": false,
    "pycharm": {
     "is_executing": true
    }
   }
  },
  {
   "cell_type": "code",
   "execution_count": null,
   "outputs": [],
   "source": [
    "sns.scatterplot(data=df[df['rounded_loss'] > 3], y='og_roll', x='img_number');"
   ],
   "metadata": {
    "collapsed": false,
    "pycharm": {
     "is_executing": true
    }
   }
  },
  {
   "cell_type": "code",
   "execution_count": null,
   "outputs": [],
   "source": [
    "sns.scatterplot(data=df, y='loss', x='iterations');"
   ],
   "metadata": {
    "collapsed": false,
    "pycharm": {
     "is_executing": true
    }
   }
  },
  {
   "cell_type": "code",
   "execution_count": null,
   "outputs": [],
   "source": [
    "# make 3d plot of calculated points\n",
    "for i in range(0, 1):\n",
    "    for suffix, color in zip(suffixes, colors):\n",
    "        fig = plt.figure()\n",
    "        ax = plt.axes(projection='3d')\n",
    "        # ax.view_init(azim=-90, elev=-90)\n",
    "        ax.scatter3D(df[str(i) + 'x_calculated' + suffix], df[str(i) + 'y_calculated' + suffix],\n",
    "                     df[str(i) + 'z_calculated' + suffix],\n",
    "                     color=color);\n",
    "        # first and last point in black\n",
    "        # ax.scatter3D(df['x_calculated' + suffix].iloc[0], df['y_calculated' + suffix].iloc[0],\n",
    "        #              df['z_calculated' + suffix].iloc[0], color=\"black\");\n",
    "        # ax.scatter3D(df['x_calculated' + suffix].iloc[-1], df['y_calculated' + suffix].iloc[-1],\n",
    "        #              df['z_calculated' + suffix].iloc[-1], color=\"black\");\n",
    "\n",
    "        ax.scatter3D(df_real[str(i) + 'x_real'], df_real[str(i) + 'y_real'], df_real[str(i) + 'z_real'], color=\"black\");\n",
    "        ax.set_xlabel('x')\n",
    "        ax.set_ylabel('y')\n",
    "        ax.set_zlabel('z')\n",
    "        ax.set_title('calculated ' + suffix + \" point \" + str(i))\n",
    "        plt.show()"
   ],
   "metadata": {
    "collapsed": false,
    "pycharm": {
     "is_executing": true
    }
   }
  },
  {
   "cell_type": "code",
   "execution_count": null,
   "outputs": [],
   "source": [
    "# make 3d plot of calculated points\n",
    "for suffix, color in zip(suffixes, colors):\n",
    "    fig = plt.figure()\n",
    "    ax = plt.axes(projection='3d')\n",
    "    # ax.view_init(azim=-90, elev=-90)\n",
    "    ax.scatter3D(df['x_calculated' + suffix], df['y_calculated' + suffix], df['z_calculated' + suffix], color=color);\n",
    "    # first and last point in black\n",
    "    ax.scatter3D(df['x_calculated' + suffix].iloc[0], df['y_calculated' + suffix].iloc[0],\n",
    "                 df['z_calculated' + suffix].iloc[0], color=\"black\");\n",
    "    ax.scatter3D(df['x_calculated' + suffix].iloc[-1], df['y_calculated' + suffix].iloc[-1],\n",
    "                 df['z_calculated' + suffix].iloc[-1], color=\"black\");\n",
    "\n",
    "    ax.scatter3D(df_real['x_real'], df_real['y_real'], df_real['z_real'], color=\"black\");\n",
    "    ax.set_xlabel('x')\n",
    "    ax.set_ylabel('y')\n",
    "    ax.set_zlabel('z')\n",
    "    ax.set_title('calculated ' + suffix)\n",
    "    plt.show()"
   ],
   "metadata": {
    "collapsed": false,
    "pycharm": {
     "is_executing": true
    }
   }
  },
  {
   "cell_type": "code",
   "execution_count": null,
   "outputs": [],
   "source": [
    "# make residual plot from real x and x\n",
    "fig, axes = plt.subplots(3, 1, figsize=(10, 10), sharex=True)\n",
    "for suffix, color in zip(suffixes, colors):\n",
    "    sns.residplot(ax=axes[0], data=df, x='x_real', y='x_calculated' + suffix, color=color);\n",
    "    sns.residplot(ax=axes[1], data=df, x='y_real', y='y_calculated' + suffix, color=color);\n",
    "    sns.residplot(ax=axes[2], data=df, x='z_real', y='z_calculated' + suffix, color=color);"
   ],
   "metadata": {
    "collapsed": false,
    "pycharm": {
     "is_executing": true
    }
   }
  },
  {
   "cell_type": "code",
   "execution_count": null,
   "outputs": [],
   "source": [
    "def get_distance(x1, y1, z1, x2, y2, z2):\n",
    "    return math.sqrt((x1 - x2) ** 2 + (y1 - y2) ** 2 + (z1 - z2) ** 2)\n",
    "\n",
    "\n",
    "for i, point in enumerate(three_d_points):\n",
    "    for suffix in suffixes:\n",
    "        df[str(i) + 'distance' + suffix] = df.apply(\n",
    "            lambda row: get_distance(row[str(i) + 'x_calculated' + suffix], row[str(i) + 'y_calculated' + suffix],\n",
    "                                     row[str(i) + 'z_calculated' + suffix],\n",
    "                                     row[str(i) + 'x_real'], row[str(i) + 'y_real'], row[str(i) + 'z_real']), axis=1)\n"
   ],
   "metadata": {
    "collapsed": false,
    "pycharm": {
     "is_executing": true
    }
   }
  },
  {
   "cell_type": "code",
   "execution_count": null,
   "outputs": [],
   "source": [
    "print(\"Mean distance to real point\")\n",
    "for i, point in enumerate(three_d_points):\n",
    "    print(\"Point \" + str(i))\n",
    "    for suffix in suffixes:\n",
    "        print(suffix + \": \" + str(df[str(i) + 'distance' + suffix].mean()))"
   ],
   "metadata": {
    "collapsed": false,
    "pycharm": {
     "is_executing": true
    }
   }
  },
  {
   "cell_type": "code",
   "execution_count": null,
   "outputs": [],
   "source": [
    "df"
   ],
   "metadata": {
    "collapsed": false,
    "pycharm": {
     "is_executing": true
    }
   }
  },
  {
   "cell_type": "code",
   "execution_count": null,
   "outputs": [],
   "source": [
    "# plot distance to real point\n",
    "fig, axes = plt.subplots(3, 1, figsize=(10, 10), sharex=True)\n",
    "for suffix, color in zip(suffixes, colors):\n",
    "    sns.scatterplot(ax=axes[0], data=df, x='img_number' + suffix, y='distance' + suffix, color=color);\n",
    "    sns.scatterplot(ax=axes[1], data=df, x='img_number' + suffix, y='distance' + suffix, color=color);\n",
    "    sns.scatterplot(ax=axes[2], data=df, x='img_number' + suffix, y='distance' + suffix, color=color);\n",
    "\n"
   ],
   "metadata": {
    "collapsed": false,
    "pycharm": {
     "is_executing": true
    }
   }
  },
  {
   "cell_type": "code",
   "execution_count": null,
   "outputs": [],
   "source": [
    "fig, axes = plt.subplots(3, 1, figsize=(10, 10), sharex=True)\n",
    "for suffix, color in zip(suffixes, colors):\n",
    "    sns.scatterplot(ax=axes[0], data=df, x='img_number' + suffix, y='pitch' + suffix, color=color);\n",
    "    sns.scatterplot(ax=axes[1], data=df, x='img_number' + suffix, y='yaw' + suffix, color=color);\n",
    "    sns.scatterplot(ax=axes[2], data=df, x='img_number' + suffix, y='roll' + suffix, color=color);\n",
    "# axes[0].set_yticks(range(0, 361, 45));\n",
    "# sns.scatterplot(ax=axes[1], data=df, x='img_number_x', y='yaw_x', hue='loss_x');\n",
    "# sns.scatterplot(ax=axes[1], data=df, x='img_number_y', y='yaw_y', hue='loss_y', alpha=0.5);\n",
    "# # axes[1].set_yticks(range(-90, 91, 45));\n",
    "# sns.scatterplot(ax=axes[2], data=df, x='img_number_x', y='roll_x', hue='loss_x');\n",
    "# sns.scatterplot(ax=axes[2], data=df, x='img_number_y', y='roll_y', hue='loss_y', alpha=0.5);\n",
    "\n",
    "nice_names = [s.replace('_', ' ') for s in suffixes]\n",
    "fig.legend(labels=nice_names, loc='center right', bbox_to_anchor=(1, 0.5))\n",
    "# axes[2].set_yticks(range(0, 361, 45));"
   ],
   "metadata": {
    "collapsed": false,
    "pycharm": {
     "is_executing": true
    }
   }
  },
  {
   "cell_type": "code",
   "execution_count": null,
   "outputs": [],
   "source": [
    "fig, axes = plt.subplots(3, 1, figsize=(10, 10), sharex=True)\n",
    "for suffix, color in zip(suffixes, colors):\n",
    "    sns.scatterplot(ax=axes[0], data=df, x='img_number' + suffix, y='x' + suffix, color=color);\n",
    "    sns.scatterplot(ax=axes[1], data=df, x='img_number' + suffix, y='y' + suffix, color=color);\n",
    "    sns.scatterplot(ax=axes[2], data=df, x='img_number' + suffix, y='z' + suffix, color=color);\n",
    "\n",
    "nice_names = [s.replace('_', ' ') for s in suffixes]\n",
    "fig.legend(labels=nice_names, loc='center right', bbox_to_anchor=(1, 0.5))"
   ],
   "metadata": {
    "collapsed": false,
    "pycharm": {
     "is_executing": true
    }
   }
  },
  {
   "cell_type": "code",
   "execution_count": null,
   "outputs": [],
   "source": [
    "df"
   ],
   "metadata": {
    "collapsed": false,
    "pycharm": {
     "is_executing": true
    }
   }
  },
  {
   "cell_type": "code",
   "execution_count": null,
   "outputs": [],
   "source": [
    "#flatten list\n",
    "plots = sorted([item for sublist in [['x' + s, 'y' + s, 'z' + s] for s in suffixes] for item in sublist])\n",
    "df[plots].describe()\n"
   ],
   "metadata": {
    "collapsed": false,
    "pycharm": {
     "is_executing": true
    }
   }
  },
  {
   "cell_type": "code",
   "execution_count": null,
   "outputs": [],
   "source": [
    "df[sorted([item for sublist in [['iterations' + s, 'loss' + s] for s in suffixes] for item in sublist])].describe()"
   ],
   "metadata": {
    "collapsed": false,
    "pycharm": {
     "is_executing": true
    }
   }
  },
  {
   "cell_type": "code",
   "execution_count": null,
   "outputs": [],
   "source": [],
   "metadata": {
    "collapsed": false,
    "pycharm": {
     "is_executing": true
    }
   }
  },
  {
   "cell_type": "code",
   "execution_count": null,
   "outputs": [],
   "source": [
    "# plot roll, pitch, yaw in 3d\n",
    "ax = plt.axes(projection='3d')\n",
    "ax.scatter3D(df['roll'], df['pitch'], df['yaw'], c=df['loss'], cmap='Greens');\n",
    "ax.scatter3D(df['correct_roll'], df['correct_pitch'], df['correct_yaw'], color='red', alpha=0.5);\n",
    "ax.set_xlabel('roll')\n",
    "ax.set_ylabel('pitch')\n",
    "ax.set_zlabel('yaw')\n",
    "plt.show()"
   ],
   "metadata": {
    "collapsed": false,
    "pycharm": {
     "is_executing": true
    }
   }
  },
  {
   "cell_type": "code",
   "execution_count": null,
   "outputs": [],
   "source": [
    "sns.scatterplot(data=df, x='correct_roll', y='roll', hue='loss')"
   ],
   "metadata": {
    "collapsed": false,
    "pycharm": {
     "is_executing": true
    }
   }
  },
  {
   "cell_type": "code",
   "execution_count": null,
   "outputs": [],
   "source": [
    "df['roll_diff'] = df['og_correct_roll'] - df['og_roll']\n",
    "sns.scatterplot(data=df[abs(df['roll_diff']) > 4], x='img_number', y='roll_diff', hue='roll_diff')"
   ],
   "metadata": {
    "collapsed": false,
    "pycharm": {
     "is_executing": true
    }
   }
  },
  {
   "cell_type": "code",
   "execution_count": null,
   "outputs": [],
   "source": [
    "# make residual plot from real roll and roll\n",
    "sns.residplot(data=df, x='og_correct_roll', y='og_roll');"
   ],
   "metadata": {
    "collapsed": false,
    "pycharm": {
     "is_executing": true
    }
   }
  },
  {
   "cell_type": "code",
   "execution_count": null,
   "outputs": [],
   "source": [
    "ax = sns.regplot(data=df, x='correct_roll', y='roll');"
   ],
   "metadata": {
    "collapsed": false,
    "pycharm": {
     "is_executing": true
    }
   }
  },
  {
   "cell_type": "code",
   "execution_count": null,
   "outputs": [],
   "source": [
    "# df['rounded_loss'] to nearest 1 decimal place\n",
    "df['rounded_loss'] = df['loss'].apply(lambda x: round(x, 0))"
   ],
   "metadata": {
    "collapsed": false,
    "pycharm": {
     "is_executing": true
    }
   }
  },
  {
   "cell_type": "code",
   "execution_count": null,
   "outputs": [],
   "source": [
    "sns.lmplot(data=df[df['rounded_loss'] > 1], x='og_real_roll', y='og_roll');"
   ],
   "metadata": {
    "collapsed": false,
    "pycharm": {
     "is_executing": true
    }
   }
  },
  {
   "cell_type": "code",
   "execution_count": null,
   "outputs": [],
   "source": [
    "sns.scatterplot(data=df[df['rounded_loss'] > 3], y='og_roll', x='img_number');"
   ],
   "metadata": {
    "collapsed": false,
    "pycharm": {
     "is_executing": true
    }
   }
  },
  {
   "cell_type": "code",
   "execution_count": null,
   "outputs": [],
   "source": [
    "sns.scatterplot(data=df, y='loss', x='iterations');"
   ],
   "metadata": {
    "collapsed": false,
    "pycharm": {
     "is_executing": true
    }
   }
  },
  {
   "cell_type": "code",
   "execution_count": null,
   "outputs": [],
   "source": [
    "suffixes = ['_3eps', '_2eps', '_linefit', '_linefit_new_contour']\n",
    "colors = ['red', 'green', 'blue', 'orange']\n",
    "\n",
    "for i, point in enumerate(three_d_points):\n",
    "    df_real[[str(i) + 'x_real', str(i) + 'y_real', str(i) + 'z_real']] = df_real.apply(\n",
    "        lambda row: get_rotated_point(row['correct_roll'], row['correct_pitch'], row['correct_yaw']), axis=1,\n",
    "        result_type='expand')\n",
    "    for suffix in suffixes:\n",
    "        df[[str(i) + 'x_calculated' + suffix, str(i) + 'y_calculated' + suffix,\n",
    "            str(i) + 'z_calculated' + suffix]] = df.apply(\n",
    "            lambda row: get_rotated_point(row['roll' + suffix], row['pitch' + suffix], row['yaw' + suffix], point),\n",
    "            axis=1,\n",
    "            result_type='expand')\n",
    "\n",
    "df = df.merge(df_real, left_index=True, right_index=True)"
   ],
   "metadata": {
    "collapsed": false,
    "pycharm": {
     "is_executing": true
    }
   }
  },
  {
   "cell_type": "code",
   "execution_count": null,
   "outputs": [],
   "source": [
    "df[['iterations_linefit_new_contour', 'loss_linefit_new_contour']].describe()"
   ],
   "metadata": {
    "collapsed": false,
    "pycharm": {
     "is_executing": true
    }
   }
  },
  {
   "cell_type": "code",
   "execution_count": null,
   "outputs": [],
   "source": [
    "# make 3d plot of calculated points\n",
    "for i in range(0, 1):\n",
    "    for suffix, color in zip(suffixes, colors):\n",
    "        fig = plt.figure()\n",
    "        ax = plt.axes(projection='3d')\n",
    "        # ax.view_init(azim=-90, elev=-90)\n",
    "        ax.scatter3D(df[str(i) + 'x_calculated' + suffix], df[str(i) + 'y_calculated' + suffix],\n",
    "                     df[str(i) + 'z_calculated' + suffix],\n",
    "                     color=color);\n",
    "        # first and last point in black\n",
    "        # ax.scatter3D(df['x_calculated' + suffix].iloc[0], df['y_calculated' + suffix].iloc[0],\n",
    "        #              df['z_calculated' + suffix].iloc[0], color=\"black\");\n",
    "        # ax.scatter3D(df['x_calculated' + suffix].iloc[-1], df['y_calculated' + suffix].iloc[-1],\n",
    "        #              df['z_calculated' + suffix].iloc[-1], color=\"black\");\n",
    "\n",
    "        ax.scatter3D(df_real[str(i) + 'x_real'], df_real[str(i) + 'y_real'], df_real[str(i) + 'z_real'], color=\"black\");\n",
    "        ax.set_xlabel('x')\n",
    "        ax.set_ylabel('y')\n",
    "        ax.set_zlabel('z')\n",
    "        ax.set_title('calculated ' + suffix + \" point \" + str(i))\n",
    "        plt.show()"
   ],
   "metadata": {
    "collapsed": false,
    "pycharm": {
     "is_executing": true
    }
   }
  },
  {
   "cell_type": "code",
   "execution_count": null,
   "outputs": [],
   "source": [
    "# make 3d plot of calculated points\n",
    "for suffix, color in zip(suffixes, colors):\n",
    "    fig = plt.figure()\n",
    "    ax = plt.axes(projection='3d')\n",
    "    # ax.view_init(azim=-90, elev=-90)\n",
    "    ax.scatter3D(df['x_calculated' + suffix], df['y_calculated' + suffix], df['z_calculated' + suffix], color=color);\n",
    "    # first and last point in black\n",
    "    ax.scatter3D(df['x_calculated' + suffix].iloc[0], df['y_calculated' + suffix].iloc[0],\n",
    "                 df['z_calculated' + suffix].iloc[0], color=\"black\");\n",
    "    ax.scatter3D(df['x_calculated' + suffix].iloc[-1], df['y_calculated' + suffix].iloc[-1],\n",
    "                 df['z_calculated' + suffix].iloc[-1], color=\"black\");\n",
    "\n",
    "    ax.scatter3D(df_real['x_real'], df_real['y_real'], df_real['z_real'], color=\"black\");\n",
    "    ax.set_xlabel('x')\n",
    "    ax.set_ylabel('y')\n",
    "    ax.set_zlabel('z')\n",
    "    ax.set_title('calculated ' + suffix)\n",
    "    plt.show()"
   ],
   "metadata": {
    "collapsed": false,
    "pycharm": {
     "is_executing": true
    }
   }
  },
  {
   "cell_type": "code",
   "execution_count": null,
   "outputs": [],
   "source": [
    "# make residual plot from real x and x\n",
    "fig, axes = plt.subplots(3, 1, figsize=(10, 10), sharex=True)\n",
    "for suffix, color in zip(suffixes, colors):\n",
    "    sns.residplot(ax=axes[0], data=df, x='x_real', y='x_calculated' + suffix, color=color);\n",
    "    sns.residplot(ax=axes[1], data=df, x='y_real', y='y_calculated' + suffix, color=color);\n",
    "    sns.residplot(ax=axes[2], data=df, x='z_real', y='z_calculated' + suffix, color=color);"
   ],
   "metadata": {
    "collapsed": false,
    "pycharm": {
     "is_executing": true
    }
   }
  },
  {
   "cell_type": "code",
   "execution_count": null,
   "outputs": [],
   "source": [
    "def get_distance(x1, y1, z1, x2, y2, z2):\n",
    "    return math.sqrt((x1 - x2) ** 2 + (y1 - y2) ** 2 + (z1 - z2) ** 2)\n",
    "\n",
    "\n",
    "for i, point in enumerate(three_d_points):\n",
    "    for suffix in suffixes:\n",
    "        df[str(i) + 'distance' + suffix] = df.apply(\n",
    "            lambda row: get_distance(row[str(i) + 'x_calculated' + suffix], row[str(i) + 'y_calculated' + suffix],\n",
    "                                     row[str(i) + 'z_calculated' + suffix],\n",
    "                                     row[str(i) + 'x_real'], row[str(i) + 'y_real'], row[str(i) + 'z_real']), axis=1)\n"
   ],
   "metadata": {
    "collapsed": false,
    "pycharm": {
     "is_executing": true
    }
   }
  },
  {
   "cell_type": "code",
   "execution_count": null,
   "outputs": [],
   "source": [
    "print(\"Mean distance to real point\")\n",
    "for i, point in enumerate(three_d_points):\n",
    "    print(\"Point \" + str(i))\n",
    "    for suffix in suffixes:\n",
    "        print(suffix + \": \" + str(df[str(i) + 'distance' + suffix].mean()))"
   ],
   "metadata": {
    "collapsed": false,
    "pycharm": {
     "is_executing": true
    }
   }
  },
  {
   "cell_type": "code",
   "execution_count": null,
   "outputs": [],
   "source": [
    "df"
   ],
   "metadata": {
    "collapsed": false,
    "pycharm": {
     "is_executing": true
    }
   }
  },
  {
   "cell_type": "code",
   "execution_count": null,
   "outputs": [],
   "source": [
    "# plot distance to real point\n",
    "fig, axes = plt.subplots(3, 1, figsize=(10, 10), sharex=True)\n",
    "for suffix, color in zip(suffixes, colors):\n",
    "    sns.scatterplot(ax=axes[0], data=df, x='img_number' + suffix, y='distance' + suffix, color=color);\n",
    "    sns.scatterplot(ax=axes[1], data=df, x='img_number' + suffix, y='distance' + suffix, color=color);\n",
    "    sns.scatterplot(ax=axes[2], data=df, x='img_number' + suffix, y='distance' + suffix, color=color);\n",
    "\n"
   ],
   "metadata": {
    "collapsed": false,
    "pycharm": {
     "is_executing": true
    }
   }
  },
  {
   "cell_type": "code",
   "execution_count": null,
   "outputs": [],
   "source": [
    "fig, axes = plt.subplots(3, 1, figsize=(10, 10), sharex=True)\n",
    "for suffix, color in zip(suffixes, colors):\n",
    "    sns.scatterplot(ax=axes[0], data=df, x='img_number' + suffix, y='pitch' + suffix, color=color);\n",
    "    sns.scatterplot(ax=axes[1], data=df, x='img_number' + suffix, y='yaw' + suffix, color=color);\n",
    "    sns.scatterplot(ax=axes[2], data=df, x='img_number' + suffix, y='roll' + suffix, color=color);\n",
    "# axes[0].set_yticks(range(0, 361, 45));\n",
    "# sns.scatterplot(ax=axes[1], data=df, x='img_number_x', y='yaw_x', hue='loss_x');\n",
    "# sns.scatterplot(ax=axes[1], data=df, x='img_number_y', y='yaw_y', hue='loss_y', alpha=0.5);\n",
    "# # axes[1].set_yticks(range(-90, 91, 45));\n",
    "# sns.scatterplot(ax=axes[2], data=df, x='img_number_x', y='roll_x', hue='loss_x');\n",
    "# sns.scatterplot(ax=axes[2], data=df, x='img_number_y', y='roll_y', hue='loss_y', alpha=0.5);\n",
    "\n",
    "nice_names = [s.replace('_', ' ') for s in suffixes]\n",
    "fig.legend(labels=nice_names, loc='center right', bbox_to_anchor=(1, 0.5))\n",
    "# axes[2].set_yticks(range(0, 361, 45));"
   ],
   "metadata": {
    "collapsed": false,
    "pycharm": {
     "is_executing": true
    }
   }
  },
  {
   "cell_type": "code",
   "execution_count": null,
   "outputs": [],
   "source": [
    "fig, axes = plt.subplots(3, 1, figsize=(10, 10), sharex=True)\n",
    "for suffix, color in zip(suffixes, colors):\n",
    "    sns.scatterplot(ax=axes[0], data=df, x='img_number' + suffix, y='x' + suffix, color=color);\n",
    "    sns.scatterplot(ax=axes[1], data=df, x='img_number' + suffix, y='y' + suffix, color=color);\n",
    "    sns.scatterplot(ax=axes[2], data=df, x='img_number' + suffix, y='z' + suffix, color=color);\n",
    "\n",
    "nice_names = [s.replace('_', ' ') for s in suffixes]\n",
    "fig.legend(labels=nice_names, loc='center right', bbox_to_anchor=(1, 0.5))"
   ],
   "metadata": {
    "collapsed": false,
    "pycharm": {
     "is_executing": true
    }
   }
  },
  {
   "cell_type": "code",
   "execution_count": null,
   "outputs": [],
   "source": [
    "df"
   ],
   "metadata": {
    "collapsed": false,
    "pycharm": {
     "is_executing": true
    }
   }
  },
  {
   "cell_type": "code",
   "execution_count": null,
   "outputs": [],
   "source": [
    "#flatten list\n",
    "plots = sorted([item for sublist in [['x' + s, 'y' + s, 'z' + s] for s in suffixes] for item in sublist])\n",
    "df[plots].describe()\n"
   ],
   "metadata": {
    "collapsed": false,
    "pycharm": {
     "is_executing": true
    }
   }
  },
  {
   "cell_type": "code",
   "execution_count": null,
   "outputs": [],
   "source": [
    "df[sorted([item for sublist in [['iterations' + s, 'loss' + s] for s in suffixes] for item in sublist])].describe()"
   ],
   "metadata": {
    "collapsed": false,
    "pycharm": {
     "is_executing": true
    }
   }
  },
  {
   "cell_type": "code",
   "execution_count": null,
   "outputs": [],
   "source": [],
   "metadata": {
    "collapsed": false,
    "pycharm": {
     "is_executing": true
    }
   }
  },
  {
   "cell_type": "code",
   "execution_count": null,
   "outputs": [],
   "source": [
    "# plot roll, pitch, yaw in 3d\n",
    "ax = plt.axes(projection='3d')\n",
    "ax.scatter3D(df['roll'], df['pitch'], df['yaw'], c=df['loss'], cmap='Greens');\n",
    "ax.scatter3D(df['correct_roll'], df['correct_pitch'], df['correct_yaw'], color='red', alpha=0.5);\n",
    "ax.set_xlabel('roll')\n",
    "ax.set_ylabel('pitch')\n",
    "ax.set_zlabel('yaw')\n",
    "plt.show()"
   ],
   "metadata": {
    "collapsed": false,
    "pycharm": {
     "is_executing": true
    }
   }
  },
  {
   "cell_type": "code",
   "execution_count": null,
   "outputs": [],
   "source": [
    "sns.scatterplot(data=df, x='correct_roll', y='roll', hue='loss')"
   ],
   "metadata": {
    "collapsed": false,
    "pycharm": {
     "is_executing": true
    }
   }
  },
  {
   "cell_type": "code",
   "execution_count": null,
   "outputs": [],
   "source": [
    "df['roll_diff'] = df['og_correct_roll'] - df['og_roll']\n",
    "sns.scatterplot(data=df[abs(df['roll_diff']) > 4], x='img_number', y='roll_diff', hue='roll_diff')"
   ],
   "metadata": {
    "collapsed": false,
    "pycharm": {
     "is_executing": true
    }
   }
  },
  {
   "cell_type": "code",
   "execution_count": null,
   "outputs": [],
   "source": [
    "# make residual plot from real roll and roll\n",
    "sns.residplot(data=df, x='og_correct_roll', y='og_roll');"
   ],
   "metadata": {
    "collapsed": false,
    "pycharm": {
     "is_executing": true
    }
   }
  },
  {
   "cell_type": "code",
   "execution_count": null,
   "outputs": [],
   "source": [
    "ax = sns.regplot(data=df, x='correct_roll', y='roll');"
   ],
   "metadata": {
    "collapsed": false,
    "pycharm": {
     "is_executing": true
    }
   }
  },
  {
   "cell_type": "code",
   "execution_count": null,
   "outputs": [],
   "source": [
    "# df['rounded_loss'] to nearest 1 decimal place\n",
    "df['rounded_loss'] = df['loss'].apply(lambda x: round(x, 0))"
   ],
   "metadata": {
    "collapsed": false,
    "pycharm": {
     "is_executing": true
    }
   }
  },
  {
   "cell_type": "code",
   "execution_count": null,
   "outputs": [],
   "source": [
    "sns.lmplot(data=df[df['rounded_loss'] > 1], x='og_real_roll', y='og_roll');"
   ],
   "metadata": {
    "collapsed": false,
    "pycharm": {
     "is_executing": true
    }
   }
  },
  {
   "cell_type": "code",
   "execution_count": null,
   "outputs": [],
   "source": [
    "sns.scatterplot(data=df[df['rounded_loss'] > 3], y='og_roll', x='img_number');"
   ],
   "metadata": {
    "collapsed": false,
    "pycharm": {
     "is_executing": true
    }
   }
  },
  {
   "cell_type": "code",
   "execution_count": null,
   "outputs": [],
   "source": [
    "sns.scatterplot(data=df, y='loss', x='iterations');\n"
   ],
   "metadata": {
    "collapsed": false,
    "pycharm": {
     "is_executing": true
    }
   }
  }
 ],
 "metadata": {
  "kernelspec": {
   "display_name": "Python 3",
   "language": "python",
   "name": "python3"
  },
  "language_info": {
   "codemirror_mode": {
    "name": "ipython",
    "version": 2
   },
   "file_extension": ".py",
   "mimetype": "text/x-python",
   "name": "python",
   "nbconvert_exporter": "python",
   "pygments_lexer": "ipython2",
   "version": "2.7.6"
  }
 },
 "nbformat": 4,
 "nbformat_minor": 0
}
